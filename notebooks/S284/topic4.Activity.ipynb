{
 "cells": [
  {
   "cell_type": "markdown",
   "metadata": {},
   "source": [
    "## Task 3: What makes a good news story?\n",
    "\n",
    "### What\n",
    "\n",
    "The paper is reporting a deeper and longer than usual dimming of a Young Stellar Object candidate ([CMD97]-1031) in the constellartion of Monoceros R2 star forming complex, with a subsequent abrupt recovery to a magnitute slightly lower than before.\n",
    "\n",
    "It is unusual to have deep dimmings of this long duration.\n",
    "\n",
    "### Who\n",
    "\n",
    "The work has been done by researchers Sally D. Jiang and Lynne A. Hillenbrand  from the Department of Astronomy at Yale University.\n",
    "\n",
    "### Why\n",
    "\n",
    "Monitoring of YSO candidates is an important activity that helps us understand the processes involved in star formation. Star forming regions are richer in potential objects than other parts of the sky. The R2 region in Monoceros is a nearby, actively forming star region considered a prime location for studying the early stages of star formation due to its young and partially embedded stellar population.\n",
    "\n",
    "### When\n",
    "\n",
    "The article was published in November 2022. The reported light curves span 8 years from 2014 to 2022.\n",
    "\n",
    "### Where\n",
    "\n",
    "The work was carried by researchers from Yale University, using data from Palomar Transient Factory, Zwicky Transient Facility, and Asteroid Terrestrial-impact Last Alert System.\n",
    "\n",
    "### How\n",
    "\n",
    "Time series analysis is used to analyse the light curves in diverent bands.\n",
    "\n"
   ]
  },
  {
   "cell_type": "code",
   "execution_count": null,
   "metadata": {},
   "outputs": [],
   "source": []
  },
  {
   "cell_type": "markdown",
   "metadata": {},
   "source": [
    "## Task 4: Writing for your audience\n",
    "\n",
    "Our audience is made of OU students of different areas. No Astronomy knowledge can be assumed. \n",
    "\n",
    "Try not to use technical terms that are difficult to define or that do not contribute to the main story.\n",
    "\n",
    "### Headline\n",
    "\n",
    "#### _An early-stage star surprises astronomers by a long deep fade and an abrupt recovery_\n",
    "\n",
    "### News article\n",
    "\n",
    "Astronomers from the Univeristy of Yale have reported a deeper and longer than usual dimming of an early-stage star in the R2 star forming complex in the Monoceros constellation.\n",
    "\n",
    "A Young Stellar Object (YSO) is a star in its early stage of evolution, and monitoring them is an important activity that helps astronomers understand the processes involved in star formation. Star forming regions like R2 in Monoceros are richer in potential objects than other parts of the sky. The R2 region is relatively close to Earth, and is considered a prime location, specially to study massive stars, due to its young and partially embedded stellar population and its converging fillament structure.\n",
    "\n",
    "The object [CMD97]-1031 is a candidate YSO, and authors Jiang and Hillenbrand have rerported it to fade by a factor of ten to then abruptly re-brighten over a period of several months. Astronomers measure the apparent brightness of an object using the apparent magnitude scale. In this scale, a ten-fold change corresponds to a change of 2.5 units. This is roughly equivalent to the difference in apparent brightness between Jupiter and the star Vega. However, the maximum apparent magnitude of [CMD97]-1031 is beyond what can be detected with the naked eye, even after recovering most of its apparent brightness.\n",
    "\n",
    "When trying to explain this unusual behaviour, Jiang and Hillenbrand explain that, in general, magnitude variations in young stars are attributed to physical processes occuring in the immediate circumstellar environment, and they can vary in how they affect the perceived brightness of the object and how long they last. In the case of [CMD97]-1031, although unusual, long-lived and deep fading behaviour of young stellar object candidates is not unique, but they diverge from the more common type of event detected, called \"dipper\" in its duration and magnitude change. In all cases, it is believed that the variations are due to clouds of dust passing in front of our line of sight from the stellar object, but in the case of [CMD97]-1031 we are detecting a much larger cloud which is also rotating much further away from the object.\n"
   ]
  },
  {
   "cell_type": "markdown",
   "metadata": {},
   "source": []
  }
 ],
 "metadata": {
  "language_info": {
   "name": "python"
  }
 },
 "nbformat": 4,
 "nbformat_minor": 2
}
