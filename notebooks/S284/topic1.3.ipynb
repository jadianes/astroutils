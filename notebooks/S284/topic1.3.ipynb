{
 "cells": [
  {
   "cell_type": "markdown",
   "metadata": {},
   "source": [
    "## Topic I.3. Determining distances"
   ]
  },
  {
   "cell_type": "code",
   "execution_count": 1,
   "metadata": {},
   "outputs": [],
   "source": [
    "import pandas as pd\n",
    "import numpy as np\n",
    "\n",
    "import sys\n",
    "import math\n",
    "\n",
    "sys.path.append('../..')\n",
    "import astroutils as astro"
   ]
  },
  {
   "cell_type": "markdown",
   "metadata": {},
   "source": [
    "### 3.1.1 The definition of the parsec\n",
    "\n",
    "A star with a parallax angle of one arcsecond is said to be one parsec away. The parallax angle is half the diameter of the ellipse that a star appear to travel in front of the background sky during a year."
   ]
  },
  {
   "cell_type": "markdown",
   "metadata": {},
   "source": [
    "### Distances and their uncertainties\n",
    "\n",
    "The firther away a star is, the smaller its **parallax angle**. The distance ($d$) of an astronomical object in parsec is related to its annual parallax angle ($\\omega$) in arcseconds by\n",
    "\n",
    "$$(d/\\text{pc}) = \\frac{1}{(\\omega / \\text{arcsec})}$$\n",
    "\n",
    "Whenever a parallax angle is measured, it will have associatef measurement uncertainty, represented by $\\Delta\\omega$. The associated uncertainty in the distance $\\Delta d$ may be calcualted as:\n",
    "\n",
    "$$\\Delta d = \\frac{\\Delta \\omega}{\\omega^2}, \\text{    if }\\Delta \\omega < 0.1 \\times \\omega$$\n"
   ]
  },
  {
   "cell_type": "markdown",
   "metadata": {},
   "source": [
    "### Example 3.2\n",
    "\n",
    "a. The annual parallax angle of the star Vega is 130 mas. What is its distance in parsec?  \n",
    "\n",
    "b. What would be the annual parallax of an object close to the centre of the Galaxy at a distance of 8.00 kpc?  "
   ]
  },
  {
   "cell_type": "code",
   "execution_count": 2,
   "metadata": {},
   "outputs": [
    {
     "data": {
      "text/plain": [
       "'7.69'"
      ]
     },
     "execution_count": 2,
     "metadata": {},
     "output_type": "execute_result"
    }
   ],
   "source": [
    "astro.distance_from_parallax(\n",
    "    parallax_angle=130e-3,\n",
    "    sf=3)"
   ]
  },
  {
   "cell_type": "code",
   "execution_count": 3,
   "metadata": {},
   "outputs": [
    {
     "data": {
      "text/plain": [
       "'0.000125'"
      ]
     },
     "execution_count": 3,
     "metadata": {},
     "output_type": "execute_result"
    }
   ],
   "source": [
    "astro.parallax_from_distance(\n",
    "    distance_away=8.0e3,\n",
    "    sf=3\n",
    ")"
   ]
  },
  {
   "cell_type": "markdown",
   "metadata": {},
   "source": [
    "### Example 3.3\n",
    "\n",
    "The uncertainty in the annual parallax angle of the star Vega is 0.36 mas. What is the uncertainty in its distance in parsec? (Its parallax angle is 130 mas)."
   ]
  },
  {
   "cell_type": "code",
   "execution_count": 4,
   "metadata": {},
   "outputs": [
    {
     "data": {
      "text/plain": [
       "'0.021'"
      ]
     },
     "execution_count": 4,
     "metadata": {},
     "output_type": "execute_result"
    }
   ],
   "source": [
    "astro.format_result(\n",
    "    res=0.36e-3 / (1.30e-1)**2,\n",
    "    sf=2\n",
    ")"
   ]
  },
  {
   "cell_type": "code",
   "execution_count": 5,
   "metadata": {},
   "outputs": [
    {
     "data": {
      "text/plain": [
       "'265'"
      ]
     },
     "execution_count": 5,
     "metadata": {},
     "output_type": "execute_result"
    }
   ],
   "source": [
    "astro.format_result(\n",
    "    res=1/3.78e-3,\n",
    "    sf=3\n",
    ")"
   ]
  },
  {
   "cell_type": "code",
   "execution_count": 6,
   "metadata": {},
   "outputs": [
    {
     "data": {
      "text/plain": [
       "'24'"
      ]
     },
     "execution_count": 6,
     "metadata": {},
     "output_type": "execute_result"
    }
   ],
   "source": [
    "astro.format_result(\n",
    "    res=0.34e-3/(3.78e-3)**2,\n",
    "    sf=2\n",
    ")"
   ]
  },
  {
   "cell_type": "markdown",
   "metadata": {},
   "source": [
    "## 3.3.2 RR Lyrae variable stars\n",
    "\n",
    "RR Lyrae stars are pulsating stars with characteristic folded light curve shapes. All of them have pulsating periods of around half a day or so, and absolute magnitudes of around 0.75. This means that we can use their measured apparent magnitudes to determine their distances from us. They can be used as standard candles."
   ]
  },
  {
   "cell_type": "markdown",
   "metadata": {},
   "source": [
    "### Example 3.5\n",
    "\n",
    "A set of RR Lyrae stars identified in the globular cluster M15 have an average apparent magnitude of $m_V = 15.83$. The interstellar extinction to M15 is $A_V = 0.26$. How far away is M15 in kpc (to two significant figures)?"
   ]
  },
  {
   "cell_type": "code",
   "execution_count": 7,
   "metadata": {},
   "outputs": [
    {
     "data": {
      "text/plain": [
       "'9.2e+03'"
      ]
     },
     "execution_count": 7,
     "metadata": {},
     "output_type": "execute_result"
    }
   ],
   "source": [
    "astro.distance_from_rr_lyrae(\n",
    "    apparent_magnitude=15.83,\n",
    "    interstellar_extinction=0.26,\n",
    "    sf=2\n",
    ")"
   ]
  },
  {
   "cell_type": "code",
   "execution_count": 8,
   "metadata": {},
   "outputs": [
    {
     "data": {
      "text/plain": [
       "'8.1e+05'"
      ]
     },
     "execution_count": 8,
     "metadata": {},
     "output_type": "execute_result"
    }
   ],
   "source": [
    "astro.distance_from_rr_lyrae(\n",
    "    apparent_magnitude=25.52,\n",
    "    interstellar_extinction=0.24,\n",
    "    sf=2\n",
    ")"
   ]
  },
  {
   "cell_type": "markdown",
   "metadata": {},
   "source": [
    "## 3.3.3 Cepheid variable stars\n",
    "\n",
    "All Cepheid variable stars have folded light curves with a similar characteristic shape, and pulsation periods between a few days and several tens of days. The pulsation period depends on the star luminosity (hence on its absolute magnitude). This means that by measuring its period we can determine its absolute magnitude. By then measuring its apparent magnitude, we can determine its distance away from us.\n",
    "\n",
    "The relationship between absolute magnitude and period is:\n",
    "\n",
    "$$M_v = -2.43 \\log_{10}(P/day)-1.62$$"
   ]
  },
  {
   "cell_type": "markdown",
   "metadata": {},
   "source": [
    "### Example 3.6\n",
    "\n",
    "A Cepheid variable in the LMC is observed with a period of 20.0 d and an average apparent magnitude of $m_v=13.86$. What is the distance to the LMC? (The extinction towards the LMC is $A_v=0.21$)"
   ]
  },
  {
   "cell_type": "code",
   "execution_count": 9,
   "metadata": {},
   "outputs": [
    {
     "data": {
      "text/plain": [
       "'4.85e+04'"
      ]
     },
     "execution_count": 9,
     "metadata": {},
     "output_type": "execute_result"
    }
   ],
   "source": [
    "astro.distance_from_cepheid(\n",
    "    apparent_magnitude=13.86,\n",
    "    period_days=20.0,\n",
    "    interstellar_extinction=0.21,\n",
    "    sf=3\n",
    ")"
   ]
  },
  {
   "cell_type": "code",
   "execution_count": 10,
   "metadata": {},
   "outputs": [
    {
     "data": {
      "text/plain": [
       "'1.63e+07'"
      ]
     },
     "execution_count": 10,
     "metadata": {},
     "output_type": "execute_result"
    }
   ],
   "source": [
    "astro.distance_from_cepheid(\n",
    "    apparent_magnitude=25.0,\n",
    "    period_days=72.0,\n",
    "    interstellar_extinction=0.07,\n",
    "    sf=3\n",
    ")"
   ]
  },
  {
   "cell_type": "markdown",
   "metadata": {},
   "source": [
    "## 3.4.1 Type Ia supernovae\n",
    "\n",
    "So-called **Type Ia supernovae** are believed to occur when a white dwarf star exceeds a critical mass of about 1.4 times that of the Sun, either by gaining mass from a companion star or (more likely) when two white dwarfs merge. Reaching this critical mass causes the star to explode.\n",
    "\n",
    "Because the critical mass at which white dwarfs will explode is the same for all white dwarfs, they are all likely to be identical at this point, and in principle they will all therefore explode with the same luminosity. As a result, they can act as standard candles. \n",
    "\n",
    "However, the light curves of individual Type Ia supernovae have slightly different peak intensities and different rates of decline. Type Ia supernovae with fainter absolute magnitudes at their peak fade away more rapidly. These differences can be corrected for by ‘stretching’ the light curves in time, so that they have the same rate of decline, then shifting them in magnitude until they overlay each other. \n",
    "\n",
    "The required stretch factor needed for any rate of decline has been worked out, so by correcting an individual light curve in this way, its apparent peak magnitude can be compared with the absolute peak magnitude of about $M_B=M_V=-19.6$.\n",
    "\n"
   ]
  },
  {
   "cell_type": "markdown",
   "metadata": {},
   "source": [
    "### Question 3.4 \n",
    "\n",
    "A Type Ia supernova called SN 2002jy was observed in the galaxy NGC 477, with an apparent magnitude $m_B=15.28$ at its peak brightness. When the light curve for this star is stretched to correct for the rate of decline, the corrected peak apparent magnitude is $m_B=14.27$. The extinction to the galaxy in the B band is $A_B=0.19$. \n",
    "\n",
    "Assuming the absolute magnitude of the supernova at its peak brightness was $M_B=-19.6$, what is the distance to the galaxy in Mpc?"
   ]
  },
  {
   "cell_type": "code",
   "execution_count": 11,
   "metadata": {},
   "outputs": [
    {
     "data": {
      "text/plain": [
       "'5.45e+07'"
      ]
     },
     "execution_count": 11,
     "metadata": {},
     "output_type": "execute_result"
    }
   ],
   "source": [
    "astro.distance_from_magnitudes(\n",
    "    apparent_magnitude=14.27,\n",
    "    absolute_magnitude=-19.6,\n",
    "    interstellar_extinction=0.19,\n",
    "    sf=3\n",
    ")"
   ]
  },
  {
   "cell_type": "markdown",
   "metadata": {},
   "source": [
    "## 3.4.2 The Hubble-Lmemaître law\n",
    "\n",
    "The more distant a galaxy is, the faster it appears to be moving away from us:\n",
    "\n",
    "$$v=H_0d$$\n",
    "\n",
    "where $v$ is the galaxy's apparent speed of recession, $d$ is the distance away, and $H_0$ is the **Hubble constant**, which has a value of about $70 \\text{ km } s^{-1} Mpc^{-1}$.\n",
    "\n",
    "The apparent speed of recession of a galaxy may be measures from its spectrum, and is quantified by a number known as the cosmological redshift, represented by $z$. At low speeds (20% speed of light $c$), redshift is just:\n",
    "\n",
    "$$z=\\frac{v}{c}$$\n"
   ]
  },
  {
   "cell_type": "code",
   "execution_count": 14,
   "metadata": {},
   "outputs": [
    {
     "data": {
      "text/plain": [
       "('4.2e+04', '6e+02')"
      ]
     },
     "execution_count": 14,
     "metadata": {},
     "output_type": "execute_result"
    }
   ],
   "source": [
    "astro.distance_from_redshift(\n",
    "    redshift=0.14,\n",
    "    sf=2\n",
    ")"
   ]
  }
 ],
 "metadata": {
  "kernelspec": {
   "display_name": "Python 3",
   "language": "python",
   "name": "python3"
  },
  "language_info": {
   "codemirror_mode": {
    "name": "ipython",
    "version": 3
   },
   "file_extension": ".py",
   "mimetype": "text/x-python",
   "name": "python",
   "nbconvert_exporter": "python",
   "pygments_lexer": "ipython3",
   "version": "3.12.1"
  }
 },
 "nbformat": 4,
 "nbformat_minor": 2
}
