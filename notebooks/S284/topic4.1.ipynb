{
 "cells": [
  {
   "cell_type": "markdown",
   "metadata": {},
   "source": [
    "# Topic IV.1 Star formation"
   ]
  },
  {
   "cell_type": "code",
   "execution_count": 1,
   "metadata": {},
   "outputs": [],
   "source": [
    "import pandas as pd\n",
    "import numpy as np\n",
    "\n",
    "import sys\n",
    "import math\n",
    "\n",
    "sys.path.append('../..')\n",
    "import astroutils as astro"
   ]
  },
  {
   "cell_type": "markdown",
   "metadata": {},
   "source": [
    "## 1.1 The process of star formation\n",
    "\n",
    "### 1.1.1 The ISM\n",
    "\n",
    "\n",
    "### 1.1.2 Observing molecular clouds\n",
    "\n",
    "If the gas and dust in molecular clouds is at a temperature of 10 K, at what wavelength does their emission peak?"
   ]
  },
  {
   "cell_type": "code",
   "execution_count": 2,
   "metadata": {},
   "outputs": [
    {
     "data": {
      "text/plain": [
       "'0.00029'"
      ]
     },
     "execution_count": 2,
     "metadata": {},
     "output_type": "execute_result"
    }
   ],
   "source": [
    "astro.wiens_law(input=10, sf=2)"
   ]
  },
  {
   "cell_type": "markdown",
   "metadata": {},
   "source": [
    "When a Giant Molecular Cloud is imaged both in visual and far infrared wavelength (where the molecular clouds emit), we can see that the structure of the images match, with new born and young stars very closely located to the molecular cloud regions. This indicates that the star formation process is closely related to the giant molecular cloud regions."
   ]
  },
  {
   "cell_type": "markdown",
   "metadata": {},
   "source": [
    "### 1.1.3 The collapse of a giant molecular cloud\n",
    "\n",
    "1. Initially, GMC temperatures are very low.  \n",
    "\n",
    "2. Gravity pulls the gas in certain regions of the GMC closer together, cauinsg it to get compressed and form denser clumps of gas.  \n",
    "\n",
    "3. The gas is heated up in the process and becomes denser.  \n",
    "\n",
    "4. However, gas pressure acts as an outward force to counteract gravity. **Jeans criterion** describes how the balance between these two forces derives into the collapse of the gas region and into the star formation process: only if the force due to gravity is the greater will contraction of the gas take place.\n",
    "\n",
    "This criterion leads to a value for the mass of a uniform spherical region of gas above which gravitational contraction will occur. This critical mass in known as the **Jeans mass**:\n",
    "\n",
    "$$M_J=\\frac{9}{4} \\times (\\frac{1}{2 \\pi n})^{1/2} \\times \\frac{1}{m^2} \\times (\\frac{k T}{G})^{3/2}$$\n",
    "\n",
    "where $n$ is the number density, $m$ is the mass of an individual gass particle, and $T$ is the gass temperature. "
   ]
  },
  {
   "cell_type": "markdown",
   "metadata": {},
   "source": [
    "### 1.1.4 Cloud collapse and fragmentation\n",
    "\n",
    "Jeans criterion assumes that GMC are spherical and homogeneous (uniform in density and temperature). But this is not the case in reality:\n",
    "\n",
    "1. The star formation process happens within the GMC for sub-regions with mass larger than the Jeans mass. \n",
    "\n",
    "2. A clump that is denser than its neighbourhood (‘over-dense’ relative to the average) will exert a stronger gravitational attraction on its surroundings, causing additional mass to fall into it. The result is **fragmentation** of the GMC: Numerous isolated regions within the GMC collapse independently.\n",
    "\n",
    "3. The densest regions, known as **dense cores**, collapse from the inside outwards in a process known as **infall**. \n",
    "\n",
    "4. This process results in the build up (**accretion**) of gas onto a central object that eventually becomes a star.\n",
    "\n",
    "\n",
    "\n"
   ]
  },
  {
   "cell_type": "markdown",
   "metadata": {},
   "source": [
    "## 1.2 Solar-mass star formation\n",
    "\n",
    "### 1.2.1 From a fragment to a protostar\n",
    "\n",
    "The evolution of a contracting fragment of a molecular cloud can be understood by considering its **energy balance**. A parcel of gas at a particular radius, $R$, near the sruface of a fragment, has a gravitational potential energy, $E_g$, given by\n",
    "\n",
    "$$E_g=-\\frac{GMm}{R}$$\n",
    "\n",
    "where $M$ is the total mass of the fragment, $m$ is the mass of the gas parcel, and $G$ is the universal gravitational consdtant. The negative sign indicates that is a potential energy. A physical chance, such as a decrease in radius, that decreases $E_g$ (becomes more negative), correspons to a release of energy, while a physical change that increases $E_g$ (becomes less negative) requires energy to be added to the system.\n",
    "\n",
    "We can assume that collisions between the rapidly moving individual gas particles redistribute their kinetic energy to achieve a state of **thermal equilibrium**.\n",
    "\n",
    "The **kinetic energy** of the gas parcel ($E_k$, the internal energy stored in the gas) is then given by its thermal energy, $E_{th}$, such that\n",
    "\n",
    "$$E_k=E_{th}=\\frac{3}{2}NkT$$\n",
    "\n",
    "where $N$ is the number of particles in the gas parcel, $T$ is the temperature and $k$ is the Boltzman constant.\n",
    "\n",
    "If the cloud contracts, $E_g$ decreases (becomes more negative), releasing energy that goes into the gas parcel, increasing its internal kinetic ekergy and raising its temeprature.\n",
    "\n",
    "The **virial theorem** states that for a gravitationally bound system, the total kinetic energy of the constituent particles must be half the magnitude of the gravitational energy, or\n",
    "\n",
    "$$E_k=-\\frac{1}{2}E_g$$\n",
    "\n",
    "In the case of galaxies the constituent particles are stars. For a mollecular cloud are its individual particles in motion. \n",
    "\n",
    "The viral theorem means that a substantial proportion of the energy released by collapse escapes the system as radiation instead of being stored as thermal energy in the gas. The rate at which gravitational contraction proceeds is affected by the ability of radiation to escape from the system. At early stages the gas is relatively transparent and infrared and radio emission can easily escape the collapsing cloud. At later stages, the higher density makes the gas opaque to radiation, trapping the radiatio within the clip so that the core temperature rises more rapidly. This is the start of a protostar.\n",
    "\n",
    "### 1.2.2 Protostar timescales and the H-R diagram\n",
    "\n",
    "Understanding the pathway from a cold dense fragment to a main sequence star is challenging because:\n",
    "\n",
    "- The effect of extinction, which prevents from being able to easily observe some stages of the process.\n",
    "\n",
    "- The comparatively rapidity of the process, which means that finding examples around us of every stage is difficult.\n",
    "\n",
    "\n"
   ]
  },
  {
   "cell_type": "markdown",
   "metadata": {},
   "source": [
    "## 1.3 High-mass and hierarchical star formation\n",
    "\n",
    "### 1.3.1 Forming massive stars\n",
    "\n",
    "High-mass ($M \\gt M_{\\odot}$) stars are very important for astronomy due to their dramatic endpoints involving explosions, but their formation process is less well understood:\n",
    "\n",
    "- The large masses involved lead to a very large release of energy from gravitational collapse, which produces a huge amount of radiation. This radiation exerts  outwards pressure which, in theory, makes further collapse difficult to explain. One solution to this problem is gas acretion disks, but these are difficult to observe because large mass stars tend to form within the most massive dense clouds, which are difficult to observe themselves.\n",
    "\n",
    "- Massive stars form very rapidly, so observing opportunities are much rarer than low mass protostars.\n",
    "\n",
    "- Another route to the formation of massive stars is the merger of two less massive protostars.\n",
    "\n",
    "### 1.3.2 Hierarchical star formation\n",
    "\n",
    "Multiple (hierarchical) star systems are important for several reasons:\n",
    "\n",
    "- If you don’t take into account the possible presence of one or more companions you may overestimate the luminosity of, or underestimate the distance to, a star.\n",
    "\n",
    "- Binary stars enable highly accurate measurements of fundamental stellar properties such as mass and radius.\n",
    "\n",
    "- The interaction between stars within binaries can affect their evolution.\n",
    "\n",
    "- Differences in the properties and frequency of binaries for different mass ranges can provide information about how they formed.\n",
    "\n",
    "Methods for detecting binaries:\n",
    "\n",
    "- Photometry can be used to detect eclipsing binary stars via changes in their light curves when one star eclipses the other.  \n",
    "\n",
    "- Spectroscopy can be used to detect spectroscopic binaries via the Doppler shifts due to their orgital motions.\n",
    "\n",
    "- Astrometry (visual or imaging) can be used to directly measure orbits in the plane of the sky, but it requires many years for these orbits to substantially change. \n",
    "\n",
    "- Stars that are bound together should have proper motions in the same direction and with the same velocity. They should also be at a very similar distance.\n",
    "\n",
    "The binary fraction of stars has been found to increase for more massive stars, with up to 70% of O and B stars found in binaries. The number of close binaries is also much larger for high-mass than low-mass stars, and the companion stars of high-mass stars are also typically high in mass.\n",
    "\n",
    "These results tell us something important about how massive stars and binaries form. If stars formed individually, and later paired up, we would expect many more examples of high-mass stars with low-mass companions, because low-mass stars are by far the majority. Since pairs of low-mass stars with similar periods to the high-mass systems are common, this suggests a fundamental difference in how low- and high-mass stars and binary systems form.\n",
    "\n",
    "#### Open clusters\n",
    "\n",
    "When many such stars occupy a small volume, their UV radiation can disrupt and ionise the GMC in which they formed, sweeping the gas into dense shells.\n",
    "\n",
    "An interesting consequence of this impact of the stellar cluster on the surrounding GMC is that some of the resulting shells of swept-up gas are dense enough to collapse under gravity and form a second generation of stars.\n",
    "\n",
    "So the story of star formation is one in which GMCs can give birth to multiple generations of stars.\n",
    "\n",
    "\n"
   ]
  },
  {
   "cell_type": "markdown",
   "metadata": {},
   "source": []
  }
 ],
 "metadata": {
  "kernelspec": {
   "display_name": "Python 3",
   "language": "python",
   "name": "python3"
  },
  "language_info": {
   "codemirror_mode": {
    "name": "ipython",
    "version": 3
   },
   "file_extension": ".py",
   "mimetype": "text/x-python",
   "name": "python",
   "nbconvert_exporter": "python",
   "pygments_lexer": "ipython3",
   "version": "3.12.1"
  }
 },
 "nbformat": 4,
 "nbformat_minor": 2
}
