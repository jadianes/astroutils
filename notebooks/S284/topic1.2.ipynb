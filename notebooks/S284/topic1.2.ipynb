{
 "cells": [
  {
   "cell_type": "markdown",
   "metadata": {},
   "source": [
    "# Topic 1.2. Photometry: measuring brightness"
   ]
  },
  {
   "cell_type": "code",
   "execution_count": 1,
   "metadata": {},
   "outputs": [],
   "source": [
    "import pandas as pd\n",
    "import numpy as np\n",
    "\n",
    "import sys\n",
    "import math\n",
    "\n",
    "sys.path.append('../..')\n",
    "import astroutils as astro"
   ]
  },
  {
   "cell_type": "markdown",
   "metadata": {},
   "source": [
    "## I.2.1. Magnitudes\n",
    "\n",
    "The **absolute magnitude** of a star is (arbitrarily) the value of its apparent magnitude if it were placed at a standard distance away of $d=10 \\text{pc}$ (in the absence of any interestellar matter to absorb its light). It is given by:\n",
    "\n",
    "$$M = m - 5 \\log_{10}(d/pc) + 5$$\n",
    "\n",
    "The absolute magnitude of a star gives a measure of its intrinsic brightness, or the amount of energy it emits per unit of time.\n"
   ]
  },
  {
   "cell_type": "markdown",
   "metadata": {},
   "source": [
    "### Question 2.3\n",
    "\n",
    "##### Converting apparent magnitude to absolute magnitude."
   ]
  },
  {
   "cell_type": "markdown",
   "metadata": {},
   "source": [
    "The five brightest stars in the contellation of Cygnus have apparent magnitudes and distances as listed in the following table:"
   ]
  },
  {
   "cell_type": "code",
   "execution_count": 2,
   "metadata": {},
   "outputs": [],
   "source": [
    "cygnus_stars_df = pd.DataFrame(\n",
    "    [\n",
    "        ['Alpha Cygni',1.25,800],\n",
    "        ['Beta Cygni', 2.93, 130],\n",
    "        ['Gamma Cygni', 2.23, 560],\n",
    "        ['Delta Cygni', 2.87, 51],\n",
    "        ['Epsilon Cygni', 2.48, 22]\n",
    "    ], \n",
    "    columns=['Star','Apparent magnitude (m)', 'Distance (d/pc)'],\n",
    ").set_index('Star')"
   ]
  },
  {
   "cell_type": "code",
   "execution_count": 3,
   "metadata": {},
   "outputs": [
    {
     "data": {
      "text/html": [
       "<div>\n",
       "<style scoped>\n",
       "    .dataframe tbody tr th:only-of-type {\n",
       "        vertical-align: middle;\n",
       "    }\n",
       "\n",
       "    .dataframe tbody tr th {\n",
       "        vertical-align: top;\n",
       "    }\n",
       "\n",
       "    .dataframe thead th {\n",
       "        text-align: right;\n",
       "    }\n",
       "</style>\n",
       "<table border=\"1\" class=\"dataframe\">\n",
       "  <thead>\n",
       "    <tr style=\"text-align: right;\">\n",
       "      <th></th>\n",
       "      <th>Apparent magnitude (m)</th>\n",
       "      <th>Distance (d/pc)</th>\n",
       "    </tr>\n",
       "    <tr>\n",
       "      <th>Star</th>\n",
       "      <th></th>\n",
       "      <th></th>\n",
       "    </tr>\n",
       "  </thead>\n",
       "  <tbody>\n",
       "    <tr>\n",
       "      <th>Alpha Cygni</th>\n",
       "      <td>1.25</td>\n",
       "      <td>800</td>\n",
       "    </tr>\n",
       "    <tr>\n",
       "      <th>Beta Cygni</th>\n",
       "      <td>2.93</td>\n",
       "      <td>130</td>\n",
       "    </tr>\n",
       "    <tr>\n",
       "      <th>Gamma Cygni</th>\n",
       "      <td>2.23</td>\n",
       "      <td>560</td>\n",
       "    </tr>\n",
       "    <tr>\n",
       "      <th>Delta Cygni</th>\n",
       "      <td>2.87</td>\n",
       "      <td>51</td>\n",
       "    </tr>\n",
       "    <tr>\n",
       "      <th>Epsilon Cygni</th>\n",
       "      <td>2.48</td>\n",
       "      <td>22</td>\n",
       "    </tr>\n",
       "  </tbody>\n",
       "</table>\n",
       "</div>"
      ],
      "text/plain": [
       "               Apparent magnitude (m)  Distance (d/pc)\n",
       "Star                                                  \n",
       "Alpha Cygni                      1.25              800\n",
       "Beta Cygni                       2.93              130\n",
       "Gamma Cygni                      2.23              560\n",
       "Delta Cygni                      2.87               51\n",
       "Epsilon Cygni                    2.48               22"
      ]
     },
     "execution_count": 3,
     "metadata": {},
     "output_type": "execute_result"
    }
   ],
   "source": [
    "cygnus_stars_df"
   ]
  },
  {
   "cell_type": "markdown",
   "metadata": {},
   "source": [
    "Calculate their absolute magnitudes to a precision of two decimal places and hance arrange them in order from intrinsically brightest to instrinsically faintest."
   ]
  },
  {
   "cell_type": "code",
   "execution_count": 4,
   "metadata": {},
   "outputs": [],
   "source": [
    "cygnus_stars_df['Absolute magnitude (M)'] = \\\n",
    "    cygnus_stars_df.apply(\n",
    "        lambda star: float(astro.apparent_to_absolute_magnitude(\n",
    "            apparent_magnitude=star['Apparent magnitude (m)'],\n",
    "            distance_away_in_pc=star['Distance (d/pc)'],\n",
    "            dp=2\n",
    "        )),\n",
    "        axis=1\n",
    "    )"
   ]
  },
  {
   "cell_type": "code",
   "execution_count": 5,
   "metadata": {},
   "outputs": [
    {
     "data": {
      "text/html": [
       "<div>\n",
       "<style scoped>\n",
       "    .dataframe tbody tr th:only-of-type {\n",
       "        vertical-align: middle;\n",
       "    }\n",
       "\n",
       "    .dataframe tbody tr th {\n",
       "        vertical-align: top;\n",
       "    }\n",
       "\n",
       "    .dataframe thead th {\n",
       "        text-align: right;\n",
       "    }\n",
       "</style>\n",
       "<table border=\"1\" class=\"dataframe\">\n",
       "  <thead>\n",
       "    <tr style=\"text-align: right;\">\n",
       "      <th></th>\n",
       "      <th>Apparent magnitude (m)</th>\n",
       "      <th>Distance (d/pc)</th>\n",
       "      <th>Absolute magnitude (M)</th>\n",
       "    </tr>\n",
       "    <tr>\n",
       "      <th>Star</th>\n",
       "      <th></th>\n",
       "      <th></th>\n",
       "      <th></th>\n",
       "    </tr>\n",
       "  </thead>\n",
       "  <tbody>\n",
       "    <tr>\n",
       "      <th>Alpha Cygni</th>\n",
       "      <td>1.25</td>\n",
       "      <td>800</td>\n",
       "      <td>-8.27</td>\n",
       "    </tr>\n",
       "    <tr>\n",
       "      <th>Gamma Cygni</th>\n",
       "      <td>2.23</td>\n",
       "      <td>560</td>\n",
       "      <td>-6.51</td>\n",
       "    </tr>\n",
       "    <tr>\n",
       "      <th>Beta Cygni</th>\n",
       "      <td>2.93</td>\n",
       "      <td>130</td>\n",
       "      <td>-2.64</td>\n",
       "    </tr>\n",
       "    <tr>\n",
       "      <th>Delta Cygni</th>\n",
       "      <td>2.87</td>\n",
       "      <td>51</td>\n",
       "      <td>-0.67</td>\n",
       "    </tr>\n",
       "    <tr>\n",
       "      <th>Epsilon Cygni</th>\n",
       "      <td>2.48</td>\n",
       "      <td>22</td>\n",
       "      <td>0.77</td>\n",
       "    </tr>\n",
       "  </tbody>\n",
       "</table>\n",
       "</div>"
      ],
      "text/plain": [
       "               Apparent magnitude (m)  Distance (d/pc)  Absolute magnitude (M)\n",
       "Star                                                                          \n",
       "Alpha Cygni                      1.25              800                   -8.27\n",
       "Gamma Cygni                      2.23              560                   -6.51\n",
       "Beta Cygni                       2.93              130                   -2.64\n",
       "Delta Cygni                      2.87               51                   -0.67\n",
       "Epsilon Cygni                    2.48               22                    0.77"
      ]
     },
     "execution_count": 5,
     "metadata": {},
     "output_type": "execute_result"
    }
   ],
   "source": [
    "cygnus_stars_df.sort_values(by='Absolute magnitude (M)')"
   ]
  },
  {
   "cell_type": "markdown",
   "metadata": {},
   "source": [
    "## I.2.2. Colours of stars and galaxies\n",
    "\n",
    "Astronomers use one or more broadband filters to make photometric measurements of the brightness of stars:\n",
    "\n",
    "- **U filter**: passes light in the near-ultraviolet (near-UV) range of the spectrum.  \n",
    "\n",
    "- **B filter**: passes blue light.  \n",
    "\n",
    "- **V filter**: Measures the **V band**, the central part of the electromagnetic spectrum, with wavelengths around 500-600 nanometers. This is the region to which the human eye is more sensitive.    \n",
    "\n",
    "- **R filter**: passes red light.  \n",
    "\n",
    "- **I filter**: pases light in the near-infrared (near-IR, or NIR) part of the spectrum.  \n",
    "\n",
    "The values of apparent magnitudes measured through these different filters are represented by the symbols $m_U$, $m_B$, $m_V$, $m_R$ and $m_I$, or simply as $U$, $B$, $V$, $R$ and $I$, respectively.  \n",
    "\n",
    "The different between two apparent magnitudes in different wavebands represents the ratio of the brightness of a star in two different parts of the spectrum.\n",
    "\n",
    "### Extintion and reddening  \n",
    "\n",
    "**Extinction**: the interestellar medium, absorbs and scatters some of the light emitted by a star, making the star appear fainter than it would otherwise be.  \n",
    "\n",
    "$$M=m-5\\log_{10}(d/pc)+5-A$$\n",
    "\n",
    "**Reddening**: the amount of extinction is larger in the blue part of the spectrum (filters U and B) than in the red [art of the spectrum (filters R to K), resulting in the reddening of a star's apparent colour (the difference between two apparent magnitudes).\n"
   ]
  },
  {
   "cell_type": "markdown",
   "metadata": {},
   "source": [
    "### Question 2.4\n",
    "\n",
    "##### Calculating intrinsic colour"
   ]
  },
  {
   "cell_type": "markdown",
   "metadata": {},
   "source": [
    "A star at a distance of 2.5 kpc experiences an extintion in the V band of $A_V=2.0 \\text{ mag}$. The extinction in the B and R bands are $A_B=1.33 A_V$ and $A_R=0.74 A_V$. The star has apparent magnitudes of $m_B=6.50$ and $m_R=5.50$.\n",
    "\n",
    "Calculate the star's absolute magnitudes in the B and R bands, and therefore compare its apparent colour with its intrinsic colour."
   ]
  },
  {
   "cell_type": "code",
   "execution_count": 6,
   "metadata": {},
   "outputs": [],
   "source": [
    "A_V = 2.0\n",
    "A_B = 1.33 * A_V\n",
    "A_R = 0.74 * A_V\n",
    "\n",
    "m_B = 6.5\n",
    "m_R = 5.5"
   ]
  },
  {
   "cell_type": "code",
   "execution_count": 7,
   "metadata": {},
   "outputs": [],
   "source": [
    "M_B = float(astro.apparent_to_absolute_magnitude(\n",
    "    apparent_magnitude=m_B,\n",
    "    distance_away_in_pc=2.5e3,\n",
    "    dp=2\n",
    ")) - A_B"
   ]
  },
  {
   "cell_type": "code",
   "execution_count": 8,
   "metadata": {},
   "outputs": [
    {
     "data": {
      "text/plain": [
       "-8.15"
      ]
     },
     "execution_count": 8,
     "metadata": {},
     "output_type": "execute_result"
    }
   ],
   "source": [
    "M_B"
   ]
  },
  {
   "cell_type": "code",
   "execution_count": 9,
   "metadata": {},
   "outputs": [],
   "source": [
    "M_R = float(astro.apparent_to_absolute_magnitude(\n",
    "    apparent_magnitude=m_R,\n",
    "    distance_away_in_pc=2.5e3,\n",
    "    dp=2\n",
    ")) - A_R"
   ]
  },
  {
   "cell_type": "code",
   "execution_count": 10,
   "metadata": {},
   "outputs": [
    {
     "data": {
      "text/plain": [
       "-7.970000000000001"
      ]
     },
     "execution_count": 10,
     "metadata": {},
     "output_type": "execute_result"
    }
   ],
   "source": [
    "M_R"
   ]
  },
  {
   "cell_type": "code",
   "execution_count": 11,
   "metadata": {},
   "outputs": [
    {
     "data": {
      "text/plain": [
       "'1.00'"
      ]
     },
     "execution_count": 11,
     "metadata": {},
     "output_type": "execute_result"
    }
   ],
   "source": [
    "f\"%.2f\" % (m_B-m_R)"
   ]
  },
  {
   "cell_type": "code",
   "execution_count": 12,
   "metadata": {},
   "outputs": [
    {
     "data": {
      "text/plain": [
       "'-0.18'"
      ]
     },
     "execution_count": 12,
     "metadata": {},
     "output_type": "execute_result"
    }
   ],
   "source": [
    "f\"%.2f\" % (M_B-M_R)"
   ]
  },
  {
   "cell_type": "markdown",
   "metadata": {},
   "source": [
    "The star is perceived as red due to extinction and reddening, but it is white in absolute terms."
   ]
  },
  {
   "cell_type": "markdown",
   "metadata": {},
   "source": [
    "## I.2.3. Flux and luminosity\n",
    "\n",
    "### An inverse square law \n",
    "\n",
    "**Luminosity** is a measure of how much energy in the form of light (or other electromagnetic radiation) is emitted by a star or galaxy in a given time interval.  \n",
    "\n",
    "The **flux** of light from a star or galaxy is equal to the object's luminosity divided by the area of the sphere over which the light has pread as it travels towards the detector:\n",
    "\n",
    "$$F=\\frac{L}{4\\pi d^2}$$\n",
    "\n",
    "This relationshipo between flux and luminosity follows an **inverse square law**.\n",
    "\n",
    "### Apparent magnitude and flux \n",
    "\n",
    "We can express the relationship between apparent magnitude and flux as:\n",
    "\n",
    "$$m_1 - m_2 = 2.5 \\log_{10}{(\\frac{F_2}{F_1})}$$\n",
    "\n",
    "where $m_1$ and $m_2$ are the apparent magnitudes of two objects, while $F_1$ and $F_2$ are their respective fluxes."
   ]
  },
  {
   "cell_type": "markdown",
   "metadata": {},
   "source": [
    "### Example 2.2\n",
    "\n",
    "##### Calculating apparent magnitude from flux  "
   ]
  },
  {
   "cell_type": "code",
   "execution_count": 13,
   "metadata": {},
   "outputs": [
    {
     "data": {
      "text/plain": [
       "'14.46'"
      ]
     },
     "execution_count": 13,
     "metadata": {},
     "output_type": "execute_result"
    }
   ],
   "source": [
    "F_a = 24500\n",
    "F_b = 18700\n",
    "m_b = 14.75\n",
    "astro.apparent_magnitude_from_flux_ratio(\n",
    "    magnitude_b=m_b,\n",
    "    b_a_flux_ratio=F_b/F_a,\n",
    "    sf=4\n",
    ")\n"
   ]
  },
  {
   "cell_type": "markdown",
   "metadata": {},
   "source": [
    "### Absolute magnitude and luminosity\n",
    "\n",
    "In a similar way, differences in absolute magnitude are related to luminosity ratios:\n",
    "\n",
    "$$M_1 - M_2 = 2.5 \\log_{10}{(\\frac{L_2}{L_1})}$$\n",
    "\n",
    "where $M_1$ and $M_2$ are the absolute magnitudes of two objects, while $L_1$ and $L_2$ are their respective luminosities."
   ]
  },
  {
   "cell_type": "markdown",
   "metadata": {},
   "source": [
    "### Example 2.3\n",
    "\n",
    "##### Calculating luminosity from absolute magnitude\n"
   ]
  },
  {
   "cell_type": "code",
   "execution_count": 17,
   "metadata": {},
   "outputs": [
    {
     "data": {
      "text/plain": [
       "'1.3e+39'"
      ]
     },
     "execution_count": 17,
     "metadata": {},
     "output_type": "execute_result"
    }
   ],
   "source": [
    "M_v=-26.5\n",
    "M_v_sun=4.83\n",
    "L_sun=3.83e26 # W\n",
    "\n",
    "res=L_sun / float(astro.flux_ratio_from_apparent_magnitudes(\n",
    "    magnitude_a=M_v,\n",
    "    magnitude_b=M_v_sun\n",
    "))\n",
    "astro.format_result(res=res, sf=3)\n"
   ]
  },
  {
   "cell_type": "markdown",
   "metadata": {},
   "source": [
    "## I.2.4. Light curves\n",
    "\n",
    "A **light curve** is a graph showing how the brightness of an astronomical object varies with time. We can plot any measure of light, visible or any other part of the spectrum.  \n",
    "\n",
    "### Folding  \n",
    "\n",
    "Light curves are often noisy, and is instructive to **fold** them at the period of variation. This means taking successive segments of the light curve, each equal in length to the period at which the star varies, and overlaying them on top of each other. The horizontal axis becomes now the phase of the cycle, running from 0 to 1.\n",
    "\n",
    "### Light travel time \n",
    "\n",
    "The time interval during which an object changes significantly in brightness can be used to determine an upper limit for the size of the object that is emitting electromagnetic radiation. This is because information cannot propagate faster than the speed of light. The emitting object cannot be larger than the distance travelled by the electromagnetic wave in the change interval. This interval is known as the **light travel time**.  \n",
    "\n"
   ]
  },
  {
   "cell_type": "markdown",
   "metadata": {},
   "source": []
  }
 ],
 "metadata": {
  "kernelspec": {
   "display_name": "Python 3",
   "language": "python",
   "name": "python3"
  },
  "language_info": {
   "codemirror_mode": {
    "name": "ipython",
    "version": 3
   },
   "file_extension": ".py",
   "mimetype": "text/x-python",
   "name": "python",
   "nbconvert_exporter": "python",
   "pygments_lexer": "ipython3",
   "version": "3.12.1"
  }
 },
 "nbformat": 4,
 "nbformat_minor": 2
}
