{
 "cells": [
  {
   "cell_type": "markdown",
   "metadata": {},
   "source": [
    "# Topic IV.2 Life on the main sequence"
   ]
  },
  {
   "cell_type": "code",
   "execution_count": 1,
   "metadata": {},
   "outputs": [],
   "source": [
    "import sys\n",
    "import math\n",
    "\n",
    "sys.path.append('..')\n",
    "import astroutils as astro"
   ]
  },
  {
   "cell_type": "markdown",
   "metadata": {},
   "source": [
    "## 2.1 Stellar structure\n",
    "\n",
    "### 2.1.1 The Sun as a template\n",
    "\n",
    "The sun photosphere appears brighter in the center than the edges due to **limb darkening**, because that we are seeing deeper into the Sun at the center than the edges. Given that the effective surface temperature is measured to be ~5780K, this variation in brightness tells us that temperature must increase with photospheric depth.\n",
    "\n",
    "The sunspot motion reveals to us that the Sun is rotating, and given that rotation periods depend on latutitude, we conclude that the Sun rotates faster at the equator.\n",
    "\n",
    "The Sun also experiences radial (int and out) motions on its surface, producing **solar granules** which change over a few minutes. They are convection cells caused by the upwelling of hot material from the solar interior, which cools as it moves outward from the center of the granule and the sinks back in towards the granule edges.\n",
    "\n",
    "### 2.1.2 Comparing the sun to other stars\n",
    "\n",
    "We can use absorption line broadening in stellar spectra to detect **rotation**.\n",
    "\n",
    "The presence of **starspots** can be detected in the light curves of stars, with periodic dips in brightness appearing whenever the spot rotates in and out of the line of sight.\n",
    "\n",
    "**Convection** can be identified on some stars using optical **interferometry**, which enables especially detailed images combining measurements from multiple smaller telescopes to synthesise a larger equivalent mirror diameter.\n",
    "\n",
    "### 2.1.3 Internal structure: gravity and pressure balance\n",
    "\n",
    "Temperature increases with depth in the Sun's photosphere. This trend continues through the star's interior because this **temperature gradient** is needed to allow the outward flow of energy from the core to the star's surface.\n",
    "\n",
    "Given that the Sun radius is stable, we can conclude the force of gravity pulling material inwards **is in balance** with the outward pressure exerted by material within the Sun. The long-term stability of stars requires that this balance holds true at every radius within the star (**hydrostatic equilibrium**).\n",
    "\n",
    "This outward pressure is proportional to material temeprature and density. We can assume that material that makes the Sun behaves as an **ideal gas** satisfying\n",
    "\n",
    "$$P=\\frac{\\rho k T}{m}$$\n",
    "\n",
    "where $P$ is the gas pressure, $\\rho$ is the gas density, $m$ is the average mass of the gas particles, $k$ is the Boltzmann constant, and $T$ is the gas temperature. \n",
    "\n",
    "Given that the Sun radius $R$ is in balance, we can say that\n",
    "\n",
    "$$T \\sim \\frac{GMm}{kR}$$\n",
    "\n",
    "where $T$ is internal average temperature, $G$ is the universal gravitational constant, $R$ is the radius, and $m$ is the average mass of a gas particle.\n",
    "\n",
    "A particularly useful results is that the core temperature of a star is proportional to its mass and inversely proportional to its radius:\n",
    "\n",
    "$$T_{core} \\propto \\frac{M}{R}$$\n",
    "\n",
    "We can also conclude from this that a large difference in stellar mass corresponds to a smaller difference in radius. Therefore, the ratio $M/R$ is larger for more massive stars, and the core temperature should be higher for stars of larger mass.\n",
    "\n",
    "### 2.1.4 Internal structure: energy transport\n",
    "\n",
    "The final piece of physics that influences stellar structure is the process of how energy is transported within stars. If it is only the inner core region that is hot enough for nuclear fusion to occur. How does the energy released reach the Sun's surface?\n",
    "\n",
    "Energy transport in the solar core is via **radiation**: individual photons travelling outwards from the center. These photons cannot travel directly from the core to the surface due to the gas density, and need to make it to the surface via encounters with other particles. They are scattered, absorbed and re-emitted many times along the way in a random walk.\n",
    "\n",
    "At around 30% beyond the inner volume, convection takes over from radiation as the main energy transport process.\n",
    "\n",
    "For stellar masses $M < 0.5 M_{\\odot}$ stars are fully convective, while stars similar in mass to the Sun have radiative inner regions and convective **stellar envelopes**. In contrast, stars with $M > 1.5 M_{\\odot}$ have inner convective regions and radiative envelopes overlaying this.\n"
   ]
  },
  {
   "cell_type": "markdown",
   "metadata": {},
   "source": [
    "## 2.2 Energy sources and lifetimes\n",
    "\n",
    "### 2.2.1 Main sequence stars\n",
    "\n",
    "The main sequence is the point in a star’s life when it produces enough energy in its core to **balance the radiation being lost at the surface** – this additional energy source **prevents further gravitational collapse**. But, what nuclear reactions are taking place and why do they lead to a main sequence?\n",
    "\n",
    "Main sequence stars burn hydrogen in their cores, and they are comparatively long-lived because they are stable. Small changes in their internal properties tend to be counterbalanced, so that they stay in equilibrium and the star's luminosity and effective temperature don't change significantly over short timescales.\n",
    "\n",
    "For main sequence stars, the larger the mass, the higher luminosity and effective temeprature. However, the total time in the main sequence is shorter the larger that mass is.\n",
    "\n",
    "So, why do main sequence stars stay stable? If we compress a main sequence star, density will increase, and gass pressure will increase. Temperature of a compressed layer also increases, and the subsequent release of potential energy also increases pressure. All this means that compression is compensated by increased pressure, and the star expands quickly back to hydrostatic equilibrium.\n",
    "\n",
    "**Russel-Vogt theorem**\n",
    "\n",
    "> The equilibrium structure of an ordinary star is determined uniquely by its mass and chemical composition.\n",
    "\n",
    "This means that there is only one location on the H-R diagram where a core-hydrogen burning star of a particular mass can be found, which will inevitably be along the main sequence region.\n",
    "\n",
    "### 2.2.2 Nuclear fusion and the $ppI$ chain\n",
    "\n",
    "The energy source in main sequence stars is given by \n",
    "\n",
    "$$E=mc^2$$\n",
    "\n",
    "If, when two nuclei fuse together, the end product is slightly less massive than the original reactants, then the ‘missing’ mass is converted to energy according to this equation.\n",
    "\n",
    "The first fusion reactions that take place within stars begin with hydrogen nuclei (protons). This is not perhaps surprising, since hydrogen is the most abundant constituent of the gas.\n",
    "\n",
    "There are several slightly different chains of reactions that can fuse hydrogen (H) to form helium (He). The first step in the process involves two protons fusing together, and so the fusion chain is known as the **pp chain**. The most common of several pp fusion routes is known as the $ppI$ (‘pp-one’) chain.\n",
    "\n",
    "\n"
   ]
  },
  {
   "cell_type": "markdown",
   "metadata": {},
   "source": []
  }
 ],
 "metadata": {
  "kernelspec": {
   "display_name": "Python 3",
   "language": "python",
   "name": "python3"
  },
  "language_info": {
   "codemirror_mode": {
    "name": "ipython",
    "version": 3
   },
   "file_extension": ".py",
   "mimetype": "text/x-python",
   "name": "python",
   "nbconvert_exporter": "python",
   "pygments_lexer": "ipython3",
   "version": "3.12.1"
  }
 },
 "nbformat": 4,
 "nbformat_minor": 2
}
