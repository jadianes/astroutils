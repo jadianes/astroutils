{
 "cells": [
  {
   "cell_type": "markdown",
   "metadata": {},
   "source": [
    "# Topic IV.2 Life on the main sequence"
   ]
  },
  {
   "cell_type": "code",
   "execution_count": 1,
   "metadata": {},
   "outputs": [],
   "source": [
    "import sys\n",
    "import math\n",
    "\n",
    "sys.path.append('..')\n",
    "import astroutils as astro"
   ]
  },
  {
   "cell_type": "markdown",
   "metadata": {},
   "source": [
    "## 2.1 Stellar structure\n",
    "\n",
    "### 2.1.1 The Sun as a template\n",
    "\n",
    "The sun photosphere appears brighter in the center than the edges due to **limb darkening**, because that we are seeing deeper into the Sun at the center than the edges. Given that the effective surface temperature is measured to be ~5780K, this variation in brightness tells us that temperature must increase with photospheric depth.\n",
    "\n",
    "The sunspot motion reveals to us that the Sun is rotating, and given that rotation periods depend on latutitude, we conclude that the Sun rotates faster at the equator.\n",
    "\n",
    "The Sun also experiences radial (int and out) motions on its surface, producing **solar granules** which change over a few minutes. They are convection cells caused by the upwelling of hot material from the solar interior, which cools as it moves outward from the center of the granule and the sinks back in towards the granule edges.\n",
    "\n",
    "### 2.1.2 Comparing the sun to other stars\n",
    "\n",
    "We can use absorption line broadening in stellar spectra to detect **rotation**.\n",
    "\n",
    "The presence of **starspots** can be detected in the light curves of stars, with periodic dips in brightness appearing whenever the spot rotates in and out of the line of sight.\n",
    "\n",
    "**Convection** can be identified on some stars using optical **interferometry**, which enables especially detailed images combining measurements from multiple smaller telescopes to synthesise a larger equivalent mirror diameter.\n",
    "\n",
    "### 2.1.3 Internal structure: gravity and pressure balance\n",
    "\n",
    "Temperature increases with depth in the Sun's photosphere. This trend continues through the star's interior because this **temperature gradient** is needed to allow the outward flow of energy from the core to the star's surface.\n",
    "\n",
    "Given that the Sun radius is stable, we can conclude the force of gravity pulling material inwards **is in balance** with the outward pressure exerted by material within the Sun. The long-term stability of stars requires that this balance holds true at every radius within the star (**hydrostatic equilibrium**).\n",
    "\n",
    "This outward pressure is proportional to material temeprature and density. We can assume that material that makes the Sun behaves as an **ideal gas** satisfying\n",
    "\n",
    "$$P=\\frac{\\rho k T}{m}$$\n",
    "\n",
    "where $P$ is the gas pressure, $\\rho$ is the gas density, $m$ is the average mass of the gas particles, $k$ is the Boltzmann constant, and $T$ is the gas temperature. \n",
    "\n",
    "Given that the Sun radius $R$ is in balance, we can say that\n",
    "\n",
    "$$T \\sim \\frac{GMm}{kR}$$\n",
    "\n",
    "where $T$ is internal average temperature, $G$ is the universal gravitational constant, $R$ is the radius, and $m$ is the average mass of a gas particle.\n",
    "\n",
    "A particularly useful results is that the core temperature of a star is proportional to its mass and inversely proportional to its radius:\n",
    "\n",
    "$$T_{core} \\propto \\frac{M}{R}$$\n",
    "\n",
    "We can also conclude from this that a large difference in stellar mass corresponds to a smaller difference in radius. Therefore, the ratio $M/R$ is larger for more massive stars, and the core temperature should be higher for stars of larger mass.\n",
    "\n",
    "### 2.1.4 Internal structure: energy transport\n",
    "\n",
    "The final piece of physics that influences stellar structure is the process of how energy is transported within stars. If it is only the inner core region that is hot enough for nuclear fusion to occur. How does the energy released reach the Sun's surface?\n",
    "\n",
    "Energy transport in the solar core is via **radiation**: individual photons travelling outwards from the center. These photons cannot travel directly from the core to the surface due to the gas density, and need to make it to the surface via encounters with other particles. They are scattered, absorbed and re-emitted many times along the way in a random walk.\n",
    "\n",
    "At around 30% beyond the inner volume, convection takes over from radiation as the main energy transport process.\n",
    "\n",
    "For stellar masses $M < 0.5 M_{\\odot}$ stars are fully convective, while stars similar in mass to the Sun have radiative inner regions and convective **stellar envelopes**. In contrast, stars with $M > 1.5 M_{\\odot}$ have inner convective regions and radiative envelopes overlaying this.\n"
   ]
  },
  {
   "cell_type": "markdown",
   "metadata": {},
   "source": [
    "## 2.2 Energy sources and lifetimes\n",
    "\n",
    "### 2.2.1 Main sequence stars\n",
    "\n",
    "The main sequence is the point in a star’s life when it produces enough energy in its core to **balance the radiation being lost at the surface** – this additional energy source **prevents further gravitational collapse**. But, what nuclear reactions are taking place and why do they lead to a main sequence?\n",
    "\n",
    "Main sequence stars burn hydrogen in their cores, and they are comparatively long-lived because they are stable. Small changes in their internal properties tend to be counterbalanced, so that they stay in equilibrium and the star's luminosity and effective temperature don't change significantly over short timescales.\n",
    "\n",
    "For main sequence stars, the larger the mass, the higher luminosity and effective temeprature. However, the total time in the main sequence is shorter the larger that mass is.\n",
    "\n",
    "So, why do main sequence stars stay stable? If we compress a main sequence star, density will increase, and gass pressure will increase. Temperature of a compressed layer also increases, and the subsequent release of potential energy also increases pressure. All this means that compression is compensated by increased pressure, and the star expands quickly back to hydrostatic equilibrium.\n",
    "\n",
    "**Russel-Vogt theorem**\n",
    "\n",
    "> The equilibrium structure of an ordinary star is determined uniquely by its mass and chemical composition.\n",
    "\n",
    "This means that there is only one location on the H-R diagram where a core-hydrogen burning star of a particular mass can be found, which will inevitably be along the main sequence region.\n",
    "\n",
    "### 2.2.2 Nuclear fusion and the $ppI$ chain\n",
    "\n",
    "The energy source in main sequence stars is given by \n",
    "\n",
    "$$E=mc^2$$\n",
    "\n",
    "If, when two nuclei fuse together, the end product is slightly less massive than the original reactants, then the ‘missing’ mass is converted to energy according to this equation.\n",
    "\n",
    "The first fusion reactions that take place within stars begin with hydrogen nuclei (protons). This is not perhaps surprising, since hydrogen is the most abundant constituent of the gas.\n",
    "\n",
    "There are several slightly different chains of reactions that can fuse hydrogen (H) to form helium (He). The first step in the process involves two protons fusing together, and so the fusion chain is known as the **pp chain**. The most common of several pp fusion routes is known as the $ppI$ (‘pp-one’) chain:\n",
    "\n",
    "1) Protons ($^{1}_{1}H$) combine to form **deuterium** nuclei ($^{2}_{1}H$, consisting of one proton and one neutron.\n",
    "    $$^1_1H +{} ^1_1H \\rightarrow{} ^2_1H + e^+ + \\nu_e$$\n",
    "2) A further reaction forms an isotope of helium with three nucleons, *helium-3* ($^{3}_{2}He$) out of one deuterium ($^{2}_{1} and one proton ($^{1}_{1}H$).\n",
    "    $$^2_1H + {}^1_1H \\rightarrow {}^3_2He + \\gamma$$\n",
    "3) Two *helium-3* ($^{3}_{2}He$) combine to form the final stable isotope of helium, *helium-4* ($^{4}_{2}He$) plus two protons ($^1_1H$).\n",
    "    $$^3_2He + {}^3_2He \\rightarrow {}^4_2He + {}^1_1H + {}^1_1H$$\n",
    "The $ppI$ chain involves six protons entering into the fusion reactions, but only two protons being left over at the end. As a result of these reactions, $\\gamma$-ray photons (step 2), **positrons** ($e^{+}$) (step 1) and electron **neutrinos** ($\\nu_{e}$) are produced (step 1). The positrons annihilate with nearby electros to release additional energy which, together with the $\\gamma$-ray photons, travel outwards to power the star's luminosity. The energy released comes from the **mass deficit**.\n",
    "\n",
    "\n"
   ]
  },
  {
   "cell_type": "code",
   "execution_count": 14,
   "metadata": {},
   "outputs": [
    {
     "data": {
      "text/plain": [
       "3.95e-12"
      ]
     },
     "execution_count": 14,
     "metadata": {},
     "output_type": "execute_result"
    }
   ],
   "source": [
    "proton_mass = 1.6726e-27\n",
    "he_nucleus_mass = 6.6447e-27\n",
    "e_mass = 9.1094e-31\n",
    "\n",
    "mass_diff = (4*proton_mass) - (he_nucleus_mass + 2*e_mass)\n",
    "mass_diff = float(astro.format_result(res=mass_diff, sf=5))\n",
    "\n",
    "energy_per_reaction = float(astro.emc2(\n",
    "    mass_diff,\n",
    "    sf=3\n",
    "    ))\n",
    "energy_per_reaction"
   ]
  },
  {
   "cell_type": "code",
   "execution_count": 15,
   "metadata": {},
   "outputs": [
    {
     "data": {
      "text/plain": [
       "4.3878e-29"
      ]
     },
     "execution_count": 15,
     "metadata": {},
     "output_type": "execute_result"
    }
   ],
   "source": [
    "mass_diff"
   ]
  },
  {
   "cell_type": "code",
   "execution_count": 12,
   "metadata": {},
   "outputs": [
    {
     "data": {
      "text/plain": [
       "9.69e+37"
      ]
     },
     "execution_count": 12,
     "metadata": {},
     "output_type": "execute_result"
    }
   ],
   "source": [
    "reactions_per_second = float(astro.format_result(\n",
    "    res=3.826e26 / 3.95e-12,\n",
    "    sf=3\n",
    "))\n",
    "reactions_per_second"
   ]
  },
  {
   "cell_type": "code",
   "execution_count": 24,
   "metadata": {},
   "outputs": [],
   "source": [
    "mass_used_per_year = float(astro.format_result(\n",
    "    res=(4*proton_mass)*reactions_per_second * astro.SEC_IN_A_YEAR,\n",
    "    sf=3\n",
    "))"
   ]
  },
  {
   "cell_type": "code",
   "execution_count": 26,
   "metadata": {},
   "outputs": [
    {
     "data": {
      "text/plain": [
       "2.04e+19"
      ]
     },
     "execution_count": 26,
     "metadata": {},
     "output_type": "execute_result"
    }
   ],
   "source": [
    "mass_used_per_year"
   ]
  },
  {
   "cell_type": "code",
   "execution_count": 19,
   "metadata": {},
   "outputs": [],
   "source": [
    "mass_of_the_sun = 2e33"
   ]
  },
  {
   "cell_type": "code",
   "execution_count": 27,
   "metadata": {},
   "outputs": [
    {
     "data": {
      "text/plain": [
       "98000000000000.0"
      ]
     },
     "execution_count": 27,
     "metadata": {},
     "output_type": "execute_result"
    }
   ],
   "source": [
    "years_left = float(astro.format_result(\n",
    "    res=mass_of_the_sun / mass_used_per_year,\n",
    "    sf=3\n",
    "))\n",
    "years_left"
   ]
  },
  {
   "cell_type": "markdown",
   "metadata": {},
   "source": [
    "### 2.2.3 Further nuclear reactions on the main sequence\n",
    "\n",
    "There are two other routes $pII$ and $pIII$ that produce Helium from Hydrogen. The main difference with $pI$ is that the produce heavier elements as intermediate products: berylium, lithium, and boron, which then decay back to produce helium $^4_2He$.\n",
    "\n",
    "The relative importance of the three routes is linked to gas temeprature. Atomic nuclei are positively charged, which means that they experience mutual repulsion from the **electrostaic force**. Tho overcome this repulstion, a large amount of kinetic energy is required, which is why high temperatures are required for all fusion reactions. The repulsion force is given by\n",
    "\n",
    "$$F=\\frac{Z_AZ_B}{4\\pi \\epsilon_0 r^2}$$\n",
    "\n",
    "where $Z_A$ and $Z_B$ are the charges of the two nuclei (i.e. their proton number), $r$ is the distance between them, and $\\epsilon_0$ is a constant know as the permitivity of free space. This equation tells as that that higher temepratures are required to fuse heavier elements.\n",
    "\n",
    "For massive stars, there is another hydrogen fusion pathway is the carbon-nitrogen-oxygen or **CNO cycle**, which require temperatures higher than those achieved by stars like the Sun.\n",
    "\n",
    "In this cycle, no heavier elements than helium are produced as a result. C, N, and O are acting as catalysts to allow a particular reaction in the cycle to occur. Given that the cycle does not produce anything more than He, the catalyst elements must be present from a previous episode of star-formation activity.\n",
    "\n",
    "### 2.2.4 Main-sequence lifetimes and mass\n",
    "\n",
    "The length of time a star will stay on the main sequence depends on how quickly it is using up its supply of nuclear fuel, which is determined by the energy-release rate of the dominant fusion reaction pathway.\n",
    "\n",
    "The rate of energy released by a nuclear fusion reaction depends on the particle density and the temperature – a high density means more particle interactions can take place, and a high temperature increases the probability that the repulsive force between nuclei can be overcome. The form of the dependence on density and temperature varies for different reaction chains.\n",
    "\n",
    "The rate of energy release for the pp chain is\n",
    "\n",
    "$$RR_{pp} \\propto n^2T^4$$\n",
    "\n",
    "For the CNO cycle\n",
    "\n",
    "$$R_{CNO} \\propto n^2T^{14}$$\n",
    "\n",
    "The rate at which energy is generated by the two reaction routes is extremely sensitive to the star’s core temperature. This is a powerful conclusion in helping us understand the properties of the main sequence and where stars lie on the H–R diagram. The transition between lower-mass stars dominated by the pp chains and higher-mass stars dominated by the CNO cycle occurs at around $1.5 M_{\\odot}$.\n",
    "\n",
    "For a star to be stable, the rate at which it generates energy in its core must balance the energy lost to radiation at the surface. This means that the star’s luminosity, and therefore its position on the H–R diagram, is closely linked to the nuclear reaction pathway and energy release rate.\n",
    "\n",
    "Main sequence massive stars are in the top left on the H-R diagram, with high luminosities and effective temperatures. Low mass tars are in the bottom right. The relationship between luminosity and mass of main sequence stars can then be described on average as:\n",
    "\n",
    "$$L \\propto M^4$$\n"
   ]
  },
  {
   "cell_type": "markdown",
   "metadata": {},
   "source": [
    "#### Example\n",
    "\n",
    "Based on the proportionalty give, what would be the luminosity of a star that is 10 times the mass of the Sun?\n",
    "\n",
    "$$\n",
    "\\frac{L}{L_{\\odot}} = (\\frac{M}{M_{\\odot}})^4 \n",
    "$$\n",
    "$$\n",
    "\\frac{L}{L_{\\odot}}=(\\frac{10 M_{\\odot}}{M_{\\odot}})^4 \n",
    "$$\n",
    "$$\n",
    "L=10^4 L_{\\odot}\n",
    "$$"
   ]
  },
  {
   "cell_type": "markdown",
   "metadata": {},
   "source": [
    "The fact that luminosity (hence radiation at the surface) increases so dramatically with mass leads to one of the most fundamental conclusions for astronomy:\n",
    "\n",
    "> Massive stars have more hydrogen fuel available to burn, but they are also radiating energy away at a faster rate. The time a star can stay on the main sequence is given by the total energy available divided by the rate at which it is released.\n",
    "\n",
    "Since the total energy stored in the hydrigen gass is proportional to mass, the lifetime ($t$) is given by\n",
    "\n",
    "$$t \\propto \\frac{M}{L}$$\n",
    "\n",
    "which means that \n",
    "\n",
    "$$t \\propto \\frac{M}{M^4}$$\n",
    "\n",
    "and so lifetime is inverse to the cuve of mass (Eqn 2.8)\n",
    "\n",
    "$$t \\propto M^{-3}$$\n"
   ]
  },
  {
   "cell_type": "markdown",
   "metadata": {},
   "source": [
    "#### Example\n",
    "\n",
    "How does the main sequence lifetime of a $10M_{\\odot}$ star compare to that of the Sun?\n",
    "\n",
    "$$\n",
    "\\frac{t}{t_{\\odot}} = (\\frac{M}{M_{\\odot}})^{-3}\n",
    "$$\n",
    "$$\n",
    "\\frac{t}{t_{\\odot}} = (\\frac{10M_{\\odot}}{M_{\\odot}})^{-3}\n",
    "$$\n",
    "$$\n",
    "t = t_{\\odot} \\times 10^{-3}\n",
    "$$\n",
    "\n",
    "That is, a thousand times shorter lifetime."
   ]
  },
  {
   "cell_type": "markdown",
   "metadata": {},
   "source": [
    "Why is Equation 2.8 so important for astronomy? The fact that massive stars are comparatively short-lived means that regions where we observe massive main sequence stars must be places of present or recent star formation. Our understanding of the history and structure of our own Galaxy is built on this knowledge of how stellar lifetimes depend on mass."
   ]
  },
  {
   "cell_type": "markdown",
   "metadata": {},
   "source": [
    "### 2.2.5 Observational tests\n",
    "\n",
    "Are there any observations that can be used to confirm that fusion is taking place in the way the theories predict? \n",
    "\n",
    "An important piece of evidence come from detecting neutrinos emited from the reactions. These particles interact with matter only very weakly, so they reach us in a very short time (speed of light, 8 mins). Measurements have now shown that **the overall rate of solar neutrinos detected exactly matches the predicions for nuclear fusion via the pp chain**.\n",
    "\n",
    "Measures of the oscillations on the surface of the Sun via Doppler shifts (helioseismology), which depend on the interior desnity and composition, have also provided complementary evidence to the detection of neutrinos. Sophisticated modelling can reconstruct interior profiles of pressure, density and temperature.\n",
    "\n",
    "\n"
   ]
  },
  {
   "cell_type": "markdown",
   "metadata": {},
   "source": [
    "## 2.3 Stellar mass limits\n",
    "\n",
    "### 2.3.1 The distribution of stellar masses\n",
    "\n",
    "The relative numbers of low- and high-mass stars produced in a burst of star formation is known as the **initial mass function** (IMF). This is a mathematical function that describes the proportion of stars of a particular mass _at the time the stars form_.\n",
    "\n",
    "The IMF is difficult to measure. Estimates of the relative number of stars of different masses from observations tell us the present-day function and not the initial. Massive stars use up their nuclear fuel much more quickly than low-mass stars, and their proportion declines in time.\n",
    "\n",
    "While it is not easy to draw firm conclusions about the IMF from observations, a combination of observations and theoretical studies tells us the star formation process does result in a larger proportion of low-mass relative to high-mass stars at the time they form.\n",
    "\n",
    "> Accurately measuring this mass distribution, and determining if it is always the same within our own and in other galaxies is a longstanding goal of astronomy research, because it is crucial for many questions about star and galaxy evolution, including the long-term stability of star clusters, and how we interpret images and spectra from distant galaxies."
   ]
  },
  {
   "cell_type": "markdown",
   "metadata": {},
   "source": [
    "### 2.3.2 Minimum and maximum mass of a star\n",
    "\n",
    "The energy release rate in nuclear reactions is very dependent on temerpature, so there is a lower limit to the mass a star can have. **Brown dwarfs** are star-like objects that are too low in mass to sutain hydrigen fusion at a useful rate. They contract gradually, with the release of gravitational potential energy powering their (low) luminosity. The boundary is at $0.08 M_{\\odot}$.\n",
    "\n",
    "Conversely, there is an upper limit to the mass a star can have. A star stability can be disrupted by too much energy being produced. The photons produced int he star's core exert pressure on the gas as they pass through (**radiation pressure**):\n",
    "\n",
    "$$P_{rad}= \\frac{1}{3} \\text{a} T^4$$\n",
    "\n",
    "where $a$ is the radiation constant ($7.57 \\times 10^{-16} N m^{-2}K^{-4}$) and $T$ is the temeprature. This pressure adds to the ordinary gas pressure to provide additional outward force, acting against the inward force of gravity:\n",
    "\n",
    "$$\\frac{P_{rad}}{P}= \\propto T^3$$\n",
    "\n",
    "so the contribution to the overall pressure from radiation increases dramatically as the interior of the star gets hotter. This radiation pressure stars to be significant for stars with $\\geq 10 M_{\\odot}$, until it disrupts the hydristatic equilibrium in the most massive stars. Detailed calculations show that the upper limit of a star is above $100 M_{\\odot}$, but this is somewhat uncertain.\n"
   ]
  },
  {
   "cell_type": "markdown",
   "metadata": {},
   "source": []
  }
 ],
 "metadata": {
  "kernelspec": {
   "display_name": "Python 3",
   "language": "python",
   "name": "python3"
  },
  "language_info": {
   "codemirror_mode": {
    "name": "ipython",
    "version": 3
   },
   "file_extension": ".py",
   "mimetype": "text/x-python",
   "name": "python",
   "nbconvert_exporter": "python",
   "pygments_lexer": "ipython3",
   "version": "3.12.1"
  }
 },
 "nbformat": 4,
 "nbformat_minor": 2
}
