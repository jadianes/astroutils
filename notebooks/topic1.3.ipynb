{
 "cells": [
  {
   "cell_type": "markdown",
   "metadata": {},
   "source": [
    "## Topic I.3. Determining distances"
   ]
  },
  {
   "cell_type": "code",
   "execution_count": 1,
   "metadata": {},
   "outputs": [],
   "source": [
    "import pandas as pd\n",
    "import numpy as np\n",
    "\n",
    "import sys\n",
    "import math\n",
    "\n",
    "sys.path.append('..')\n",
    "import astroutils as astro"
   ]
  },
  {
   "cell_type": "markdown",
   "metadata": {},
   "source": [
    "### 3.1.1 The definition of the parsec\n",
    "\n",
    "A star with a parallax angle of one arcsecond is said to be one parsec away. The parallax angle is half the diameter of the ellipse that a star appear to travel in front of the background sky during a year."
   ]
  },
  {
   "cell_type": "markdown",
   "metadata": {},
   "source": [
    "### Distances and their uncertainties\n",
    "\n",
    "The firther away a star is, the smaller its **parallax angle**. The distance ($d$) of an astronomical object in parsec is related to its annual parallax angle ($\\omega$) in arcseconds by\n",
    "\n",
    "$$(d/\\text{pc}) = \\frac{1}{(\\omega / \\text{arcsec})}$$\n",
    "\n",
    "Whenever a parallax angle is measured, it will have associatef measurement uncertainty, represented by $\\Delta\\omega$. The associated uncertainty in the distance $\\Delta d$ may be calcualted as:\n",
    "\n",
    "$$\\Delta d = \\frac{\\Delta \\omega}{\\omega^2}, \\text{    if }\\Delta \\omega < 0.1 \\times \\omega$$\n"
   ]
  },
  {
   "cell_type": "markdown",
   "metadata": {},
   "source": [
    "### Example 3.2\n",
    "\n",
    "a. The annual parallax angle of the star Vega is 130 mas. What is its distance in parsec?  \n",
    "\n",
    "b. What would be the annual parallax of an object close to the centre of the Galaxy at a distance of 8.00 kpc?  "
   ]
  },
  {
   "cell_type": "code",
   "execution_count": 2,
   "metadata": {},
   "outputs": [
    {
     "data": {
      "text/plain": [
       "'7.69'"
      ]
     },
     "execution_count": 2,
     "metadata": {},
     "output_type": "execute_result"
    }
   ],
   "source": [
    "astro.distance_from_parallax(\n",
    "    parallax_angle=130e-3,\n",
    "    sf=3)"
   ]
  },
  {
   "cell_type": "code",
   "execution_count": 3,
   "metadata": {},
   "outputs": [
    {
     "data": {
      "text/plain": [
       "'0.000125'"
      ]
     },
     "execution_count": 3,
     "metadata": {},
     "output_type": "execute_result"
    }
   ],
   "source": [
    "astro.parallax_from_distance(\n",
    "    distance_away=8.0e3,\n",
    "    sf=3\n",
    ")"
   ]
  },
  {
   "cell_type": "markdown",
   "metadata": {},
   "source": [
    "### Example 3.3\n",
    "\n",
    "The uncertainty in the annual parallax angle of the star Vega is 0.36 mas. What is the uncertainty in its distance in parsec? (Its parallax angle is 130 mas)."
   ]
  },
  {
   "cell_type": "code",
   "execution_count": 4,
   "metadata": {},
   "outputs": [
    {
     "data": {
      "text/plain": [
       "'0.021'"
      ]
     },
     "execution_count": 4,
     "metadata": {},
     "output_type": "execute_result"
    }
   ],
   "source": [
    "astro.format_result(\n",
    "    res=0.36e-3 / (1.30e-1)**2,\n",
    "    sf=2\n",
    ")"
   ]
  },
  {
   "cell_type": "code",
   "execution_count": 5,
   "metadata": {},
   "outputs": [
    {
     "data": {
      "text/plain": [
       "'265'"
      ]
     },
     "execution_count": 5,
     "metadata": {},
     "output_type": "execute_result"
    }
   ],
   "source": [
    "astro.format_result(\n",
    "    res=1/3.78e-3,\n",
    "    sf=3\n",
    ")"
   ]
  },
  {
   "cell_type": "code",
   "execution_count": 6,
   "metadata": {},
   "outputs": [
    {
     "data": {
      "text/plain": [
       "'24'"
      ]
     },
     "execution_count": 6,
     "metadata": {},
     "output_type": "execute_result"
    }
   ],
   "source": [
    "astro.format_result(\n",
    "    res=0.34e-3/(3.78e-3)**2,\n",
    "    sf=2\n",
    ")"
   ]
  },
  {
   "cell_type": "markdown",
   "metadata": {},
   "source": [
    "## 3.3.2 RR Lyrae stars\n",
    "\n",
    "RR Lyrae stars are pulsating stars with characteristic folded light curve shapes. All of them have pulsating periods of around half a day or so, and absolute magnitudes of around 0.75. This means that we can use their measured apparent magnitudes to determine their distances from us. They can be used as standard candles."
   ]
  },
  {
   "cell_type": "markdown",
   "metadata": {},
   "source": [
    "### Example 3.5\n",
    "\n",
    "A set of RR Lyrae stars identified in the globular cluster M15 have an average apparent magnitude of $m_V = 15.83$. The interstellar extinction to M15 is $A_V = 0.26$. How far away is M15 in kpc (to two significant figures)?"
   ]
  },
  {
   "cell_type": "code",
   "execution_count": 9,
   "metadata": {},
   "outputs": [
    {
     "data": {
      "text/plain": [
       "'9.2e+03'"
      ]
     },
     "execution_count": 9,
     "metadata": {},
     "output_type": "execute_result"
    }
   ],
   "source": [
    "astro.distance_from_rr_lyrae(\n",
    "    apparent_magnitude=15.83,\n",
    "    interstellar_extinction=0.26,\n",
    "    sf=2\n",
    ")"
   ]
  },
  {
   "cell_type": "code",
   "execution_count": null,
   "metadata": {},
   "outputs": [],
   "source": []
  }
 ],
 "metadata": {
  "kernelspec": {
   "display_name": "Python 3",
   "language": "python",
   "name": "python3"
  },
  "language_info": {
   "codemirror_mode": {
    "name": "ipython",
    "version": 3
   },
   "file_extension": ".py",
   "mimetype": "text/x-python",
   "name": "python",
   "nbconvert_exporter": "python",
   "pygments_lexer": "ipython3",
   "version": "3.12.1"
  }
 },
 "nbformat": 4,
 "nbformat_minor": 2
}
