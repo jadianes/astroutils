{
 "cells": [
  {
   "cell_type": "markdown",
   "metadata": {},
   "source": [
    "# Topic II.1 The spectral continuum\n"
   ]
  },
  {
   "cell_type": "code",
   "execution_count": 1,
   "metadata": {},
   "outputs": [],
   "source": [
    "import pandas as pd\n",
    "import numpy as np\n",
    "\n",
    "import sys\n",
    "import math\n",
    "\n",
    "sys.path.append('..')\n",
    "import astroutils as astro"
   ]
  },
  {
   "cell_type": "markdown",
   "metadata": {},
   "source": [
    "## 1.1 Light at different wavelengths\n",
    "\n",
    "### 1.1.1 The nature of light\n",
    "\n",
    "For a given colour of light, each photon has the same energy:\n",
    "\n",
    "$$\\epsilon = h f$$\n",
    "\n",
    "where $h$ represents the Planck constant of approximately $6.63 \\times 10^{-34} Js$, and with the frequency $f$ and wavelength $\\lambda$ related through the equation\n",
    "\n",
    "$$c=f \\lambda$$\n",
    "\n",
    "where $c$ is the speed of light."
   ]
  },
  {
   "cell_type": "markdown",
   "metadata": {},
   "source": [
    "### Example 1.1\n",
    "\n",
    "Calculate the energy of a photon of red light ($\\lambda = 700 nm$), in joules and electronvolts.\n"
   ]
  },
  {
   "cell_type": "code",
   "execution_count": 2,
   "metadata": {},
   "outputs": [],
   "source": [
    "res = float(astro.energy_from_wavelength(\n",
    "    wavelength=700e-9,\n",
    "    sf=3\n",
    ")) "
   ]
  },
  {
   "cell_type": "code",
   "execution_count": 3,
   "metadata": {},
   "outputs": [
    {
     "data": {
      "text/plain": [
       "2.84e-19"
      ]
     },
     "execution_count": 3,
     "metadata": {},
     "output_type": "execute_result"
    }
   ],
   "source": [
    "res"
   ]
  },
  {
   "cell_type": "code",
   "execution_count": 4,
   "metadata": {},
   "outputs": [
    {
     "data": {
      "text/plain": [
       "'1.77'"
      ]
     },
     "execution_count": 4,
     "metadata": {},
     "output_type": "execute_result"
    }
   ],
   "source": [
    "astro.format_result(res=res / astro.J_IN_A_eV, sf=3)"
   ]
  },
  {
   "cell_type": "markdown",
   "metadata": {},
   "source": [
    "### Question 1.1\n",
    "\n",
    "Calculate the energy of a photon of violet light ($\\lambda = 420 nm$), in joules and electronvolts."
   ]
  },
  {
   "cell_type": "code",
   "execution_count": 5,
   "metadata": {},
   "outputs": [],
   "source": [
    "res = float(astro.energy_from_wavelength(\n",
    "    wavelength=420e-9,\n",
    "    sf=3\n",
    ")) "
   ]
  },
  {
   "cell_type": "code",
   "execution_count": 6,
   "metadata": {},
   "outputs": [
    {
     "data": {
      "text/plain": [
       "4.74e-19"
      ]
     },
     "execution_count": 6,
     "metadata": {},
     "output_type": "execute_result"
    }
   ],
   "source": [
    "res"
   ]
  },
  {
   "cell_type": "code",
   "execution_count": 7,
   "metadata": {},
   "outputs": [
    {
     "data": {
      "text/plain": [
       "'2.96'"
      ]
     },
     "execution_count": 7,
     "metadata": {},
     "output_type": "execute_result"
    }
   ],
   "source": [
    "astro.format_result(res=res / astro.J_IN_A_eV, sf=3)"
   ]
  },
  {
   "cell_type": "markdown",
   "metadata": {},
   "source": [
    "## 1.2 Continuous spectra of stars\n",
    "\n",
    "### 1.2.2 Wien's law\n",
    "\n",
    "The spectral curve of a black-body is determined by its temperature. This relationship between temperature $T$ (in kelvin) and peak wavelength $\\lambda_{peak}$ (in meters) is described by Wien's displacement law:\n",
    "\n",
    "$$(\\lambda_{peak}/m)=\\frac{2.90 \\times 10^{-3}}{(T/K)}$$\n"
   ]
  },
  {
   "cell_type": "markdown",
   "metadata": {},
   "source": [
    "### Example 1.2\n",
    "\n",
    "The tungsten filament of a standard incandescent light bulb has a temperature of about 2800 K. Estimate the wavelength, in nm, at which its spectrum will peak.\n"
   ]
  },
  {
   "cell_type": "code",
   "execution_count": 8,
   "metadata": {},
   "outputs": [
    {
     "data": {
      "text/plain": [
       "'1e-06'"
      ]
     },
     "execution_count": 8,
     "metadata": {},
     "output_type": "execute_result"
    }
   ],
   "source": [
    "astro.wiens_law(input=2800, sf=2)"
   ]
  },
  {
   "cell_type": "markdown",
   "metadata": {},
   "source": [
    "### Example 1.3\n",
    "\n",
    "A star’s spectrum is observed to peak at a wavelength of 650 nm. Estimate its temperature."
   ]
  },
  {
   "cell_type": "code",
   "execution_count": 9,
   "metadata": {},
   "outputs": [
    {
     "data": {
      "text/plain": [
       "'4.5e+03'"
      ]
     },
     "execution_count": 9,
     "metadata": {},
     "output_type": "execute_result"
    }
   ],
   "source": [
    "astro.wiens_law(input=650e-9, sf=2)"
   ]
  },
  {
   "cell_type": "markdown",
   "metadata": {},
   "source": [
    "### Question 1.2\n",
    "\n",
    "The Sun’s temperature is measured to be approximately 5780 K. Estimate the wavelength, in nm, at which you would expect its spectrum to peak."
   ]
  },
  {
   "cell_type": "code",
   "execution_count": 10,
   "metadata": {},
   "outputs": [
    {
     "data": {
      "text/plain": [
       "'5.02e-07'"
      ]
     },
     "execution_count": 10,
     "metadata": {},
     "output_type": "execute_result"
    }
   ],
   "source": [
    "astro.wiens_law(input=5780, sf=3)"
   ]
  },
  {
   "cell_type": "code",
   "execution_count": 11,
   "metadata": {},
   "outputs": [
    {
     "data": {
      "text/plain": [
       "'4.01e+04'"
      ]
     },
     "execution_count": 11,
     "metadata": {},
     "output_type": "execute_result"
    }
   ],
   "source": [
    "astro.wiens_law(72.3e-9, sf=3)"
   ]
  },
  {
   "cell_type": "code",
   "execution_count": 12,
   "metadata": {},
   "outputs": [
    {
     "data": {
      "text/plain": [
       "'2.73'"
      ]
     },
     "execution_count": 12,
     "metadata": {},
     "output_type": "execute_result"
    }
   ],
   "source": [
    "astro.wiens_law(1.063e-3, sf=3)"
   ]
  },
  {
   "cell_type": "markdown",
   "metadata": {},
   "source": [
    "### 1.2.5 Luminosity, temperature and radius\n",
    "\n",
    "The relationship between a star's luminosity, temeprature and radious (**LTR relationship**) can be expressed as:\n",
    "\n",
    "$$L=4\\pi R^2 \\sigma T^4$$\n",
    "\n",
    "where $\\sigma$ is the Stefan-Boltzman constant, with value $5.67 \\times 10^{-8} W m^{-2}K^{-4}$.\n",
    "\n",
    "This **LTR relationship** can be expressed in terms of solar units as:\n",
    "\n",
    "$$\\frac{L}{L_{\\odot}}=(\\frac{R}{R_{\\odot}})^2 \\times (\\frac{T}{T_{\\odot}})^4$$\n",
    "\n",
    "And for radius:\n",
    "\n",
    "$$\\frac{R}{R_{\\odot}}=\\sqrt{\\frac{L}{L_{\\odot}}} \\times (\\frac{T_{\\odot}}{T})^2$$\n"
   ]
  },
  {
   "cell_type": "markdown",
   "metadata": {},
   "source": [
    "### Example 1.4 Using the LTR relationship\n",
    "\n",
    "Estimate the radius of Barnard’s star (M4) in solar units from its luminosity and effective temperature."
   ]
  },
  {
   "cell_type": "code",
   "execution_count": 13,
   "metadata": {},
   "outputs": [
    {
     "data": {
      "text/plain": [
       "'0.21'"
      ]
     },
     "execution_count": 13,
     "metadata": {},
     "output_type": "execute_result"
    }
   ],
   "source": [
    "astro.radius_from_lt_relationship(\n",
    "    luminosity=0.0035,\n",
    "    temperature=3100/5780,\n",
    "    sf=2\n",
    ")"
   ]
  },
  {
   "cell_type": "code",
   "execution_count": 14,
   "metadata": {},
   "outputs": [
    {
     "data": {
      "text/plain": [
       "'40'"
      ]
     },
     "execution_count": 14,
     "metadata": {},
     "output_type": "execute_result"
    }
   ],
   "source": [
    "astro.luminosity_from_rt_relationship(\n",
    "    radius=2.3,\n",
    "    temperature=9600/5780,\n",
    "    sf=2\n",
    ")"
   ]
  },
  {
   "cell_type": "code",
   "execution_count": 15,
   "metadata": {},
   "outputs": [
    {
     "data": {
      "text/plain": [
       "'7.5'"
      ]
     },
     "execution_count": 15,
     "metadata": {},
     "output_type": "execute_result"
    }
   ],
   "source": [
    "astro.radius_from_lt_relationship(\n",
    "    luminosity=59000,\n",
    "    temperature=33000/5780,\n",
    "    sf=2\n",
    ")"
   ]
  },
  {
   "cell_type": "code",
   "execution_count": 17,
   "metadata": {},
   "outputs": [
    {
     "data": {
      "text/plain": [
       "'3.85e+26'"
      ]
     },
     "execution_count": 17,
     "metadata": {},
     "output_type": "execute_result"
    }
   ],
   "source": [
    "res=4*math.pi*(6.96e8)**2 * 5.67e-8 * (5780)**4\n",
    "astro.format_result(res=res, sf=3)"
   ]
  },
  {
   "cell_type": "code",
   "execution_count": null,
   "metadata": {},
   "outputs": [],
   "source": []
  }
 ],
 "metadata": {
  "kernelspec": {
   "display_name": "Python 3",
   "language": "python",
   "name": "python3"
  },
  "language_info": {
   "codemirror_mode": {
    "name": "ipython",
    "version": 3
   },
   "file_extension": ".py",
   "mimetype": "text/x-python",
   "name": "python",
   "nbconvert_exporter": "python",
   "pygments_lexer": "ipython3",
   "version": "3.12.1"
  }
 },
 "nbformat": 4,
 "nbformat_minor": 2
}
