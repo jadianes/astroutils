{
 "cells": [
  {
   "cell_type": "markdown",
   "metadata": {},
   "source": [
    "# Topic II.2 Spectral lines"
   ]
  },
  {
   "cell_type": "code",
   "execution_count": 1,
   "metadata": {},
   "outputs": [],
   "source": [
    "import pandas as pd\n",
    "import numpy as np\n",
    "\n",
    "import sys\n",
    "import math\n",
    "\n",
    "sys.path.append('..')\n",
    "import astroutils as astro"
   ]
  },
  {
   "cell_type": "markdown",
   "metadata": {},
   "source": [
    "## 2.1 Introducing spectral lines\n",
    "\n",
    "### 2.1.1 Formation of spectral lines\n",
    "\n",
    "A star's **photosphere** emits light with an approximately black-body continuous spectrum. This light passes though its **chromosphere**, which is a shell of thin gas containing atoms and molecules that produce absorption lines in the star's spectrum.\n",
    "\n",
    "Basically, each type of atom or molecule in a star’s atmosphere can absorb and emit photons with specific amounts of energy, corresponding to specific wavelengths.\n",
    "\n",
    "### 2.1.2 Hydrogen lines\n",
    "\n",
    "When a hydrigen atom with initial energy $E_i$ is exposed to light with a continuous spectrum, ot can **absorb a photon with exactly the right amount of energy $\\epsilon$** (associated with a given wavelength), to allow it to make a transition to a higher energy state, such that \n",
    "\n",
    "$$\\epsilon = E_f - E_i$$\n",
    "\n",
    "where $E_f$ is the final energy and, in general\n",
    "\n",
    "$$E_n = \\frac{-13.6 eV}{n^2} \\text{ (Eqn 2.1) }$$ \n",
    "\n",
    "where $n$ is the energy level (2,3, 4, etc.).\n",
    "\n",
    "The absorved photons will produce an absortion line in the wavelength/frequency associated with the energy $\\epsilon$:\n",
    "\n",
    "$$f=\\frac{E_f - E_i}{h} \\text{ (Eqn 2.2, h in eV) }$$\n",
    "\n",
    "After that, the electron can make a spontaneous transition to a lower energy state, emitting a photon with frequency again given by Eqn. 2.2.\n",
    "\n",
    "We can rearrange Eqn 2.2 in terms of wavelength as:\n",
    "\n",
    "$$\\lambda = \\frac{c h}{E_f-E_i}$$\n",
    "\n",
    "### 2.1.3 Calculating transitions\n",
    "\n",
    "The four hydrogen lines in visible wavelengths are part of the **Balmer series**, for which $E_i$ is given by $n=2$ (ii.e. transitions from $E_2$ to higher energy states). The transition in each series are labelled $\\alpha$, $\\beta$, $\\gamma$, etc. with increasing energy and decreasing absorved/emited wavelength. "
   ]
  },
  {
   "cell_type": "markdown",
   "metadata": {},
   "source": [
    "### Example 2.1\n",
    "\n",
    "Calculate the wavelength of the first Balmer line, usually termed the **H alpha** ($H\\alpha$) line."
   ]
  },
  {
   "cell_type": "markdown",
   "metadata": {},
   "source": [
    "The $H\\alpha$ line energy correspond to the transition from $E_2$ to $E_3$ so:\n",
    "\n",
    "$$\\lambda=\\frac{c h}{E_f-E_i}$$\n"
   ]
  },
  {
   "cell_type": "code",
   "execution_count": 2,
   "metadata": {},
   "outputs": [
    {
     "data": {
      "text/plain": [
       "'6.57e-07'"
      ]
     },
     "execution_count": 2,
     "metadata": {},
     "output_type": "execute_result"
    }
   ],
   "source": [
    "astro.hydrogen_transition_wavelength(\n",
    "    initial_state=2,\n",
    "    final_state=3,\n",
    "    sf=3\n",
    ")"
   ]
  },
  {
   "cell_type": "markdown",
   "metadata": {},
   "source": [
    "### Question 2.1\n",
    "\n",
    "Calculate the wavelength of the second Balmer line, $H\\beta$"
   ]
  },
  {
   "cell_type": "code",
   "execution_count": 3,
   "metadata": {},
   "outputs": [
    {
     "data": {
      "text/plain": [
       "'4.87e-07'"
      ]
     },
     "execution_count": 3,
     "metadata": {},
     "output_type": "execute_result"
    }
   ],
   "source": [
    "astro.hydrogen_transition_wavelength(\n",
    "    initial_state=2,\n",
    "    final_state=4,\n",
    "    sf=3\n",
    ")"
   ]
  },
  {
   "cell_type": "markdown",
   "metadata": {},
   "source": [
    "Other significant sets of named hydrogen absorption lines exist. For example, the **Paschen** series involves $E_i=E_3$, and lies in the near infrared, while the **Brackett** series has $E_i=E_4$, and lies further into the infrared, overlapping slightly with the Paschen lines."
   ]
  },
  {
   "cell_type": "markdown",
   "metadata": {},
   "source": [
    "### Question 2.2\n",
    "\n",
    "The third Brackett line, Brackett $\\gamma$ (gamma) is an important spectral feature in the K band. Calculate its wavelength.\n",
    "\n"
   ]
  },
  {
   "cell_type": "code",
   "execution_count": 4,
   "metadata": {},
   "outputs": [
    {
     "data": {
      "text/plain": [
       "'2.17e-06'"
      ]
     },
     "execution_count": 4,
     "metadata": {},
     "output_type": "execute_result"
    }
   ],
   "source": [
    "astro.hydrogen_transition_wavelength(\n",
    "    initial_state=4,\n",
    "    final_state=7,\n",
    "    sf=3\n",
    ")"
   ]
  },
  {
   "cell_type": "markdown",
   "metadata": {},
   "source": [
    "There is also an important **Lyman** series in the ultraviolet, with $E_i=E_1$."
   ]
  },
  {
   "cell_type": "markdown",
   "metadata": {},
   "source": [
    "## 2.2 Spectral lines in stars\n",
    "\n",
    "A line strength, quantified by its **equivalent width** ($\\omega_{\\lambda}$), can tell us about the abundance of the relevant element in a star's atmosphere. However, the most important factor determining line strength is temperature. Al low temperatures transitions involving an initial energy above the ground state are rare, and the corresponding lines are weak. It also happens that at very high temperatures, most atoms are ionised and transitions involving neutral atoms will be rare.\n",
    "\n",
    "With this imnformation, we can use curves about relative strength variation of lines with temperature to further measure stellar temepratures.\n",
    "\n",
    "### 2.2.2 Stellar classes / 2.2.3 Using spectra to classify stars\n",
    "\n",
    "Given that line strength depends on temperature, we can use the relative line stregths of a star spectrum to estimate its class. That is, stars can be classified using photospheric temperatures. \n",
    "\n",
    "[See tables here](https://learn2.open.ac.uk/mod/oucontent/view.php?id=2288277&section=2.2.2)\n",
    "\n",
    "### 2.2.4 Luminosity and spectra\n",
    "\n",
    "Although a narrow-deep and a shallow-wide line could have the same strength, the widths of spectral lines tell us about their luminosities. A more luminous star will have narrower lines than a less luminous star with the same temperature, and therefore will have a larger radius.\n",
    "\n",
    "This happens because the smaller star has a more dense atmosphere and their atoms collide and interact with each other more frequently, producing small random changes in their energy levels and making the absortion lines more unexpected, and the absortion line broader (**pressure broadening**). This provides a way to measure the luminosity of a star from the widths of its absorption lines.\n",
    "\n",
    "The **Morgan-Keenan** spectral system supplements the temperature based classes of the Harvard system with **luminosty classes** ranging from I (mot luminous) to V (less luminous).\n",
    "\n",
    "### 2.2.5 Composition and spectra\n",
    "\n",
    "Relative abundances of different elements in a star atmostphere can also be determined from its spectrum. However, we can't just compare specific lines between stars because their strength will also **depend strongly on temperature**. To void this problem, a combination of line stregths from many **different lines associated with each element** are used.\n",
    "\n",
    "In practice, the observed spectrum of a star is compared with template spectra generated from a wide range of synthetic model star atmospheres, allowing us to classify them and identify its tempeature, luminosity, and composition.\n",
    "\n",
    "## 2.3 The Hertzsprung-Russel diagram\n",
    "\n",
    "The H-R diagram plots some measure of star's brightness (Y axis) against some measure of their temperature (X axis).\n",
    "\n",
    "The standard form plots Luminosity in units of solar luminosity ($L/L_{\\odot}$) against effective surface temperature in kelvin (T/K). Both axes are logarithmic scales. Temperature increases towards the left. Colour density indicates population density.\n",
    "\n",
    "Another case is an colour-magnitude H-R diagram, in which apparent or absolute magnitude in a particular wavelength is plotted against colour."
   ]
  },
  {
   "cell_type": "code",
   "execution_count": null,
   "metadata": {},
   "outputs": [],
   "source": []
  },
  {
   "cell_type": "markdown",
   "metadata": {},
   "source": []
  }
 ],
 "metadata": {
  "kernelspec": {
   "display_name": "Python 3",
   "language": "python",
   "name": "python3"
  },
  "language_info": {
   "codemirror_mode": {
    "name": "ipython",
    "version": 3
   },
   "file_extension": ".py",
   "mimetype": "text/x-python",
   "name": "python",
   "nbconvert_exporter": "python",
   "pygments_lexer": "ipython3",
   "version": "3.12.1"
  }
 },
 "nbformat": 4,
 "nbformat_minor": 2
}
