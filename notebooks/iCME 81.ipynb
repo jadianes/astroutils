{
 "cells": [
  {
   "cell_type": "code",
   "execution_count": 1,
   "metadata": {},
   "outputs": [],
   "source": [
    "import pandas as pd\n",
    "import numpy as np\n",
    "\n",
    "import sys\n",
    "import math\n",
    "\n",
    "sys.path.append('..')\n",
    "import astroutils as astro"
   ]
  },
  {
   "cell_type": "markdown",
   "metadata": {},
   "source": [
    "### Question 1"
   ]
  },
  {
   "cell_type": "code",
   "execution_count": 2,
   "metadata": {},
   "outputs": [],
   "source": [
    "proper_motion_ra_arcsec_y = 32.98e-3\n",
    "proper_motion_dec_arcsec_y = 19.23e-3\n",
    "annual_parallax_arcsec = 7.11e-3"
   ]
  },
  {
   "cell_type": "code",
   "execution_count": 3,
   "metadata": {},
   "outputs": [
    {
     "data": {
      "text/plain": [
       "0.03818"
      ]
     },
     "execution_count": 3,
     "metadata": {},
     "output_type": "execute_result"
    }
   ],
   "source": [
    "proper_motion_magnitude_arcsec = float(astro.magnitude_from_components(\n",
    "    ra_comp=proper_motion_ra_arcsec_y,\n",
    "    dec_comp=proper_motion_dec_arcsec_y,\n",
    "    sf=4\n",
    "))\n",
    "proper_motion_magnitude_arcsec"
   ]
  },
  {
   "cell_type": "code",
   "execution_count": 4,
   "metadata": {},
   "outputs": [
    {
     "data": {
      "text/plain": [
       "141.0"
      ]
     },
     "execution_count": 4,
     "metadata": {},
     "output_type": "execute_result"
    }
   ],
   "source": [
    "distance_away_pc = float(astro.distance_from_parallax(\n",
    "    parallax_angle_arcsec=annual_parallax_arcsec,\n",
    "    sf=3\n",
    "))\n",
    "distance_away_pc"
   ]
  },
  {
   "cell_type": "code",
   "execution_count": 5,
   "metadata": {},
   "outputs": [
    {
     "data": {
      "text/plain": [
       "1.851e-07"
      ]
     },
     "execution_count": 5,
     "metadata": {},
     "output_type": "execute_result"
    }
   ],
   "source": [
    "proper_motion_magnitude_radians = float(astro.to_radians(\n",
    "    arcsecs=proper_motion_magnitude_arcsec, \n",
    "    sf=4))\n",
    "proper_motion_magnitude_radians"
   ]
  },
  {
   "cell_type": "code",
   "execution_count": 6,
   "metadata": {},
   "outputs": [
    {
     "data": {
      "text/plain": [
       "2.61e-05"
      ]
     },
     "execution_count": 6,
     "metadata": {},
     "output_type": "execute_result"
    }
   ],
   "source": [
    "transverse_velocity_pc_y = float(astro.format_result(\n",
    "    res=(proper_motion_magnitude_radians * distance_away_pc),\n",
    "    sf=3\n",
    "))\n",
    "transverse_velocity_pc_y"
   ]
  },
  {
   "cell_type": "code",
   "execution_count": 7,
   "metadata": {},
   "outputs": [
    {
     "data": {
      "text/plain": [
       "'25.5'"
      ]
     },
     "execution_count": 7,
     "metadata": {},
     "output_type": "execute_result"
    }
   ],
   "source": [
    "astro.format_result(\n",
    "    res=(transverse_velocity_pc_y * astro.KM_IN_A_PC) / astro.SEC_IN_A_YEAR,\n",
    "    sf=3\n",
    ")"
   ]
  },
  {
   "cell_type": "markdown",
   "metadata": {},
   "source": [
    "### Question 2"
   ]
  },
  {
   "cell_type": "code",
   "execution_count": 8,
   "metadata": {},
   "outputs": [],
   "source": [
    "gamma_crucis_radius_sm = 70.6\n",
    "gamma_crucis_luminosity_sl = 830\n",
    "gamma_crucis_effective_surface_temp_K = 3690 "
   ]
  },
  {
   "cell_type": "code",
   "execution_count": 9,
   "metadata": {},
   "outputs": [
    {
     "data": {
      "text/plain": [
       "7.9e-07"
      ]
     },
     "execution_count": 9,
     "metadata": {},
     "output_type": "execute_result"
    }
   ],
   "source": [
    "peak_wavelength_m = float(\n",
    "    astro.wiens_law(input=gamma_crucis_effective_surface_temp_K, sf=2)\n",
    ")\n",
    "peak_wavelength_m"
   ]
  },
  {
   "cell_type": "code",
   "execution_count": 10,
   "metadata": {},
   "outputs": [
    {
     "data": {
      "text/plain": [
       "'42'"
      ]
     },
     "execution_count": 10,
     "metadata": {},
     "output_type": "execute_result"
    }
   ],
   "source": [
    "astro.format_result(\n",
    "    res=math.sqrt(gamma_crucis_luminosity_sl/6.17) * (7020/gamma_crucis_effective_surface_temp_K)**2,\n",
    "    sf=2\n",
    ")"
   ]
  },
  {
   "cell_type": "markdown",
   "metadata": {},
   "source": [
    "### Question 3"
   ]
  },
  {
   "cell_type": "code",
   "execution_count": 11,
   "metadata": {},
   "outputs": [
    {
     "data": {
      "text/plain": [
       "3.6"
      ]
     },
     "execution_count": 11,
     "metadata": {},
     "output_type": "execute_result"
    }
   ],
   "source": [
    "angular_size_arcsec = (800 * 0.27)\n",
    "angular_size_arcsec  / 60"
   ]
  },
  {
   "cell_type": "code",
   "execution_count": 12,
   "metadata": {},
   "outputs": [
    {
     "data": {
      "text/plain": [
       "'4.5'"
      ]
     },
     "execution_count": 12,
     "metadata": {},
     "output_type": "execute_result"
    }
   ],
   "source": [
    "astro.angular_to_linear(\n",
    "    theta_radians=float(astro.to_radians(arcsecs=angular_size_arcsec, sf=3)),\n",
    "    distance_away_pc=4.3e3,\n",
    "    sf=2\n",
    ")"
   ]
  },
  {
   "cell_type": "markdown",
   "metadata": {},
   "source": [
    "### Question 4"
   ]
  },
  {
   "cell_type": "code",
   "execution_count": 13,
   "metadata": {},
   "outputs": [],
   "source": [
    "pulsation_period_days = 64.5\n",
    "apparent_magnitude_V = 25.04\n",
    "interstellar_extinction_V = 0.07"
   ]
  },
  {
   "cell_type": "code",
   "execution_count": 14,
   "metadata": {},
   "outputs": [
    {
     "data": {
      "text/plain": [
       "-6.02"
      ]
     },
     "execution_count": 14,
     "metadata": {},
     "output_type": "execute_result"
    }
   ],
   "source": [
    "absolute_magnitude = float(astro.format_result(\n",
    "        res=-2.43 * math.log10(pulsation_period_days) - 1.62,\n",
    "        sf=3\n",
    "    ))\n",
    "absolute_magnitude"
   ]
  },
  {
   "cell_type": "code",
   "execution_count": 15,
   "metadata": {},
   "outputs": [
    {
     "data": {
      "text/plain": [
       "'1.58e+07'"
      ]
     },
     "execution_count": 15,
     "metadata": {},
     "output_type": "execute_result"
    }
   ],
   "source": [
    "astro.distance_from_cepheid(\n",
    "    apparent_magnitude=apparent_magnitude_V,\n",
    "    period_days=pulsation_period_days,\n",
    "    interstellar_extinction=interstellar_extinction_V,\n",
    "    sf=3\n",
    ")"
   ]
  },
  {
   "cell_type": "code",
   "execution_count": 16,
   "metadata": {},
   "outputs": [
    {
     "data": {
      "text/plain": [
       "15800000.0"
      ]
     },
     "execution_count": 16,
     "metadata": {},
     "output_type": "execute_result"
    }
   ],
   "source": [
    "float(astro.format_result(\n",
    "    res=10**((apparent_magnitude_V-absolute_magnitude+5-interstellar_extinction_V)/5),\n",
    "    sf=3\n",
    "))"
   ]
  },
  {
   "cell_type": "code",
   "execution_count": 17,
   "metadata": {},
   "outputs": [
    {
     "data": {
      "text/plain": [
       "'10.5'"
      ]
     },
     "execution_count": 17,
     "metadata": {},
     "output_type": "execute_result"
    }
   ],
   "source": [
    "astro.format_result(\n",
    "    res=10**((-3.47+6.02)/2.5),\n",
    "    sf=3\n",
    ")"
   ]
  },
  {
   "cell_type": "markdown",
   "metadata": {},
   "source": [
    "### Question 5"
   ]
  },
  {
   "cell_type": "code",
   "execution_count": 50,
   "metadata": {},
   "outputs": [],
   "source": [
    "recession_radial_velocity_km_s = 2390\n",
    "rotation_max_radial_velocity_km_s = 160\n",
    "rotation_min_radial_velocity_km_s = -160\n",
    "emitted_wavelength_m = 500.7e-9"
   ]
  },
  {
   "cell_type": "code",
   "execution_count": 46,
   "metadata": {},
   "outputs": [],
   "source": [
    "total_radial_velocity_away_km_s = recession_radial_velocity_km_s + rotation_max_radial_velocity_km_s"
   ]
  },
  {
   "cell_type": "code",
   "execution_count": 47,
   "metadata": {},
   "outputs": [
    {
     "data": {
      "text/plain": [
       "2550"
      ]
     },
     "execution_count": 47,
     "metadata": {},
     "output_type": "execute_result"
    }
   ],
   "source": [
    "total_radial_velocity_away_km_s"
   ]
  },
  {
   "cell_type": "code",
   "execution_count": 49,
   "metadata": {},
   "outputs": [
    {
     "data": {
      "text/plain": [
       "0.0085"
      ]
     },
     "execution_count": 49,
     "metadata": {},
     "output_type": "execute_result"
    }
   ],
   "source": [
    "total_redshift = total_radial_velocity_away_km_s / astro.SPEED_OF_LIGHT_KMS\n",
    "total_redshift"
   ]
  },
  {
   "cell_type": "code",
   "execution_count": 58,
   "metadata": {},
   "outputs": [
    {
     "data": {
      "text/plain": [
       "5.05e-07"
      ]
     },
     "execution_count": 58,
     "metadata": {},
     "output_type": "execute_result"
    }
   ],
   "source": [
    "observed_wavelength_m = float(astro.format_result(\n",
    "    res=(total_redshift + 1) * emitted_wavelength_m,\n",
    "    sf=4\n",
    "))\n",
    "observed_wavelength_m"
   ]
  },
  {
   "cell_type": "code",
   "execution_count": 60,
   "metadata": {},
   "outputs": [
    {
     "data": {
      "text/plain": [
       "4.3e-09"
      ]
     },
     "execution_count": 60,
     "metadata": {},
     "output_type": "execute_result"
    }
   ],
   "source": [
    "wavelength_delta_m = float(astro.format_result(\n",
    "    res=observed_wavelength_m - emitted_wavelength_m,\n",
    "    sf=4\n",
    "))\n",
    "wavelength_delta_m"
   ]
  },
  {
   "cell_type": "code",
   "execution_count": 66,
   "metadata": {},
   "outputs": [
    {
     "data": {
      "text/plain": [
       "2576.0"
      ]
     },
     "execution_count": 66,
     "metadata": {},
     "output_type": "execute_result"
    }
   ],
   "source": [
    "velocity_dispersion_km_s = float(astro.format_result(\n",
    "    res=(wavelength_delta_m / emitted_wavelength_m) * astro.SPEED_OF_LIGHT_KMS,\n",
    "    sf=4\n",
    "))\n",
    "velocity_dispersion_km_s"
   ]
  },
  {
   "cell_type": "markdown",
   "metadata": {},
   "source": [
    "### Question 6"
   ]
  },
  {
   "cell_type": "code",
   "execution_count": 38,
   "metadata": {},
   "outputs": [],
   "source": [
    "supernova_distance_away_pc = 32e6\n",
    "required_precision_pc = 240\n",
    "mirror_diameter_m = 0.15\n",
    "center_wavelength_m = 1.5e-8"
   ]
  },
  {
   "cell_type": "code",
   "execution_count": 39,
   "metadata": {},
   "outputs": [
    {
     "data": {
      "text/plain": [
       "('0', '0', '1.5')"
      ]
     },
     "execution_count": 39,
     "metadata": {},
     "output_type": "execute_result"
    }
   ],
   "source": [
    "maximum_angular_size_radians = astro.from_radians(\n",
    "    radians=(required_precision_pc/supernova_distance_away_pc), \n",
    "    sf=2\n",
    ")\n",
    "maximum_angular_size_radians"
   ]
  },
  {
   "cell_type": "code",
   "execution_count": 40,
   "metadata": {},
   "outputs": [
    {
     "data": {
      "text/plain": [
       "1e-07"
      ]
     },
     "execution_count": 40,
     "metadata": {},
     "output_type": "execute_result"
    }
   ],
   "source": [
    "maximum_resolution_radians = float(astro.format_result(\n",
    "    res=(center_wavelength_m / mirror_diameter_m), \n",
    "    sf=2\n",
    "))\n",
    "maximum_resolution_radians"
   ]
  },
  {
   "cell_type": "code",
   "execution_count": 41,
   "metadata": {},
   "outputs": [
    {
     "data": {
      "text/plain": [
       "('0', '0', '0.021')"
      ]
     },
     "execution_count": 41,
     "metadata": {},
     "output_type": "execute_result"
    }
   ],
   "source": [
    "astro.from_radians(radians=maximum_resolution_radians, sf=2)"
   ]
  },
  {
   "cell_type": "code",
   "execution_count": null,
   "metadata": {},
   "outputs": [],
   "source": []
  }
 ],
 "metadata": {
  "kernelspec": {
   "display_name": "Python 3",
   "language": "python",
   "name": "python3"
  },
  "language_info": {
   "codemirror_mode": {
    "name": "ipython",
    "version": 3
   },
   "file_extension": ".py",
   "mimetype": "text/x-python",
   "name": "python",
   "nbconvert_exporter": "python",
   "pygments_lexer": "ipython3",
   "version": "3.12.1"
  }
 },
 "nbformat": 4,
 "nbformat_minor": 2
}
