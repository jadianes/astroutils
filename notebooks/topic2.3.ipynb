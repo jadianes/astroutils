{
 "cells": [
  {
   "cell_type": "markdown",
   "metadata": {},
   "source": [
    "# Topic II.3 Spectra and motion"
   ]
  },
  {
   "cell_type": "code",
   "execution_count": 1,
   "metadata": {},
   "outputs": [],
   "source": [
    "import pandas as pd\n",
    "import numpy as np\n",
    "\n",
    "import sys\n",
    "import math\n",
    "\n",
    "sys.path.append('..')\n",
    "import astroutils as astro"
   ]
  },
  {
   "cell_type": "markdown",
   "metadata": {},
   "source": [
    "## 3.1 Radial motion of whole bodies\n",
    "\n",
    "### 3.1.1 The Doppler effect\n",
    "\n",
    "We can measure an object's radial velocity $v_R$ from doppler shift. The standard equation relating observed and emitted wavelengths to radial velocity is:\n",
    "\n",
    "$$v_R=\\frac{c(\\lambda_{obs}-\\lambda_{em})}{\\lambda_{em}} \\text{  (Eqn 3.1)}$$\n",
    "\n",
    "where $c$ is the speed of light.\n",
    "\n",
    "### 3.1.2 Measuring radial velocities\n",
    "\n",
    "Doppler shift is measured most easily from spectral lines, which are relatively narrow and well defined."
   ]
  },
  {
   "cell_type": "markdown",
   "metadata": {},
   "source": [
    "### Exercise 3.1"
   ]
  },
  {
   "cell_type": "markdown",
   "metadata": {},
   "source": [
    "**a.**"
   ]
  },
  {
   "cell_type": "code",
   "execution_count": 2,
   "metadata": {},
   "outputs": [
    {
     "data": {
      "text/plain": [
       "'4.38e-11'"
      ]
     },
     "execution_count": 2,
     "metadata": {},
     "output_type": "execute_result"
    }
   ],
   "source": [
    "astro.doppler_shift_from_radial_velocity(\n",
    "    radial_velocity=20e3,\n",
    "    emitted_wavelength=656.2801e-9,\n",
    "    sf=3\n",
    ")"
   ]
  },
  {
   "cell_type": "markdown",
   "metadata": {},
   "source": [
    "**b.**"
   ]
  },
  {
   "cell_type": "code",
   "execution_count": 3,
   "metadata": {},
   "outputs": [
    {
     "data": {
      "text/plain": [
       "'5e+03'"
      ]
     },
     "execution_count": 3,
     "metadata": {},
     "output_type": "execute_result"
    }
   ],
   "source": [
    "astro.radial_velocity_from_doppler_shift(\n",
    "    observed_wavelength=656.2901e-9,\n",
    "    emitted_wavelength=656.2801e-9,\n",
    "    sf=1\n",
    ")"
   ]
  },
  {
   "cell_type": "markdown",
   "metadata": {},
   "source": [
    "### 3.1.3 Space velocities\n",
    "\n",
    "We can combine an object's transverse velocity $v_T$ with its radial velocity $v_R$ using Pythagoras' theorem to give its **space velocity** $v$:\n",
    "\n",
    "$$v=\\sqrt{v_T^2 + v_R^2} \\text{  (Eqn 3.2)}$$\n"
   ]
  },
  {
   "cell_type": "markdown",
   "metadata": {},
   "source": [
    "### Example 3.1\n",
    "\n",
    "**a.**\n",
    "\n",
    "Vega's $H_{\\alpha}$ line is measured to have a wavelength of 656.2350 nm. Using a precise laboratory wavelength for $H_{\\alpha}$ of 656.2801 nm. Calculate its radial velocity in $km$ $s^{-1}$.\n",
    "\n",
    "**b.**\n",
    "\n",
    "Vega’s transverse velocity is 12.8 km s−1. Calculate its space velocity in km s−1.\n"
   ]
  },
  {
   "cell_type": "code",
   "execution_count": 4,
   "metadata": {},
   "outputs": [],
   "source": [
    "vega_radial_velocity = float(astro.radial_velocity_from_doppler_shift(\n",
    "    observed_wavelength=656.2350e-9,\n",
    "    emitted_wavelength=656.2801e-9,\n",
    "    sf=3\n",
    "))"
   ]
  },
  {
   "cell_type": "code",
   "execution_count": 5,
   "metadata": {},
   "outputs": [
    {
     "data": {
      "text/plain": [
       "-20600.0"
      ]
     },
     "execution_count": 5,
     "metadata": {},
     "output_type": "execute_result"
    }
   ],
   "source": [
    "vega_radial_velocity"
   ]
  },
  {
   "cell_type": "code",
   "execution_count": 6,
   "metadata": {},
   "outputs": [
    {
     "data": {
      "text/plain": [
       "'2.43e+04'"
      ]
     },
     "execution_count": 6,
     "metadata": {},
     "output_type": "execute_result"
    }
   ],
   "source": [
    "astro.format_result(res=math.sqrt(\n",
    "        vega_radial_velocity**2 + (12.8e3)**2\n",
    "    ),\n",
    "    sf=3\n",
    ")"
   ]
  },
  {
   "cell_type": "markdown",
   "metadata": {},
   "source": [
    "### Question 3.1\n",
    "\n",
    "Calculate (a) the radial velocity and (b) the space velocity of 78 UMa (78 Ursae Majoris), with an $H \\alpha$ line observed at a wavelength of 656.2587 nm, and a traverse velocity of 12.8 $km$ $s^{-1}$."
   ]
  },
  {
   "cell_type": "code",
   "execution_count": 7,
   "metadata": {},
   "outputs": [],
   "source": [
    "uma78_radial_velocity = float(astro.radial_velocity_from_doppler_shift(\n",
    "    observed_wavelength=656.2587e-9,\n",
    "    emitted_wavelength=656.2801e-9,\n",
    "    sf=3\n",
    "))"
   ]
  },
  {
   "cell_type": "code",
   "execution_count": 9,
   "metadata": {},
   "outputs": [
    {
     "data": {
      "text/plain": [
       "-9780.0"
      ]
     },
     "execution_count": 9,
     "metadata": {},
     "output_type": "execute_result"
    }
   ],
   "source": [
    "uma78_radial_velocity"
   ]
  },
  {
   "cell_type": "code",
   "execution_count": 8,
   "metadata": {},
   "outputs": [
    {
     "data": {
      "text/plain": [
       "'1.61e+04'"
      ]
     },
     "execution_count": 8,
     "metadata": {},
     "output_type": "execute_result"
    }
   ],
   "source": [
    "astro.format_result(res=math.sqrt(\n",
    "        uma78_radial_velocity**2 + (12.8e3)**2\n",
    "    ),\n",
    "    sf=3\n",
    ")"
   ]
  },
  {
   "cell_type": "markdown",
   "metadata": {},
   "source": [
    "### 3.1.4 Redshift\n",
    "\n",
    "When talking of the motion of external galaxies, the wavelength shifts can be much larger and redshift, represented by $z$ is:\n",
    "\n",
    "$$z=\\frac{\\lambda_{obs}-\\lambda_{em}}{\\lambda_{em}} = \\frac{\\lambda_{obs}}{\\lambda_{em}} -1 \\text{ (Eqn 3.3)}$$\n",
    "\n",
    "This means that radial velocity and redshift are related by the expression:\n",
    "\n",
    "$$v_R=zc$$\n",
    "\n",
    "Outside the local group, all galaxies have positive redshifts (a consequence of the universe expansion), and the relationship is linear between distance and $z$ for $z<0.2$ approximately. In this case we talk about **cosmological redshifts** instead of doppler shifts. The light is stretched due to the expansion of the space it travels and not necessarily by the motion of the object."
   ]
  },
  {
   "cell_type": "markdown",
   "metadata": {},
   "source": [
    "## 3.2 Motion of two bodies about a common centre of mass\n",
    "\n",
    "### 3.2.1 Orbits\n",
    "\n",
    "In a binary system containing bodies with similar masses ($M$ and $m$, with $M>m$), the center of mass will be located between the two bodies. Both bodies have the same orbital period, $P_{orb}$, which is the length taken to complete one orbit."
   ]
  },
  {
   "cell_type": "markdown",
   "metadata": {},
   "source": [
    "In an elliptical orbit, $M$ sits at one **focus** of the ellipse, and $m$ orbits on the boundary of the ellipse. The foci are located at a distance $c$ from the center of the ellipse, where:\n",
    "\n",
    "$$c = \\sqrt{a^2-b^2}$$\n",
    "\n",
    "and $a$ and $b$ are the **semimajor** and **semiminor** axes of the ellipse (which are half of the length of the ellipse's longer and shorter dimensions).\n",
    "\n",
    "The degree of **eccentricity** $e$ of the ellipse is defined as half the distance between the foci, divided by $a$:\n",
    "\n",
    "$$e = \\frac{c}{a}$$\n",
    "\n",
    "Finally, we use $i$ to denote the inclination angle between the orbit and the plane of the sky."
   ]
  },
  {
   "cell_type": "markdown",
   "metadata": {},
   "source": [
    "### 3.2.2 Spectroscopic binary stars\n",
    "\n",
    "If we measure the spectrum of a binary star system, the individual spectra of both stars will be added together. \n",
    "\n",
    "If both stars are bright enough, we will see spectral lines from both (a **double-lined spectroscopic binary**), superimposed on a combined continuum spectrum. If only one star’s lines are detectable, it would be a **single-lined spectroscopic binary**.\n",
    "\n",
    "Moreover, if the angle of inclination is suitable, as one star moves away from us in its orbit, the other will move towards us, producing detectable redshifts and blueshifts in the spectral lines.\n",
    "\n",
    "### 3.2.3 Using spectroscopic binaries\n",
    "\n",
    "The relationship between mass, orbital period, and semimajor axis in a binary system can be expressed using **Kepler's thid law**:\n",
    "\n",
    "$$P_{orb}^2 = \\frac{4 \\pi^2 a^3}{G(M+m)} \\text{ (Eqn 3.4)}$$\n",
    "\n",
    "where $G$ is the universal gravitational constant, approx. $6.67 \\times 10^{-11} N \\text{ } m^2 kg^{-2}$.\n",
    "\n",
    "We can normalise this equation as:\n",
    "\n",
    "$$(P/y)^2 = \\frac{(a/AU)^3}{(M/M_{\\odot}) + (m/M_{\\odot})} \\text{ (Eqn 3.5)}$$\n",
    "\n",
    "Using this equation, we can calculate the **total mass of a binary system** if we know its period and semimajor axis:\n",
    "\n",
    "- The period can be measured from an eclipsing binary’s light curve or from a spectroscopic binary’s radial velocity curve (plots of the two stars’ radial velocities against time).  \n",
    "- We can also determine the semimajor axis from the radial velocity amplitudes for the two stars, $v_{RM}$ and $v_{Rm}$:  \n",
    "\n",
    "$$v_{RM} = \\frac{2\\pi d_M}{P_{orb}} \\text{ (Eqn 3.6a)}$$\n",
    "\n",
    "$$v_{Rm} = \\frac{2\\pi d_m}{P_{orb}} \\text{ (Eqn 3.6b)}$$\n",
    "\n",
    "where $a=d_M + d_m$. \n",
    "\n",
    "The ratio of the two masses is related to the ratio of the two distances:\n",
    "\n",
    "$$\\frac{M}{m} = \\frac{d_m}{d_M} \\text{ (Eqn 3.7)}$$\n",
    "\n",
    "which we can use to determine individual stellar masses.\n",
    "\n"
   ]
  },
  {
   "cell_type": "markdown",
   "metadata": {},
   "source": [
    "### Example 3.2\n",
    "\n",
    "A spectroscopic binary system’s orbital period is measured as 100 days (to 3 s.f.), and its maximum radial velocities are measured as 25 km s−1 and 42 km s−1. Since the radial velocity of the centre-of-mass of this system is zero, the radial velocity amplitudes are equal to the maximum radial velocities. Calculate the masses of the two stars.\n",
    "\n",
    "TODO: write functions for all the equations above."
   ]
  },
  {
   "cell_type": "markdown",
   "metadata": {},
   "source": [
    "### Activity 2 - Eclipsing binary system\n",
    "\n",
    "1) Find orbital period using a light curve.\n",
    "2) Measure radial velocities from radial velocity curves.\n",
    "3) Calculate stellar masses as done in example 3.2.\n",
    "4) Transverse velocity, radii of both stars, temeperatures.\n",
    "5) Space velocity."
   ]
  },
  {
   "cell_type": "markdown",
   "metadata": {},
   "source": [
    "## 3.3 Motion of many bodies about a common centre of mass\n",
    "\n",
    "### 3.3.1 Introducing rotation curves\n",
    "\n",
    "A rotation curve plots the speed of elements of the system against their distance from the center of the system.\n",
    "\n",
    "Rotating systems moving under the influence of gravity typically undergo differential rotation: objects at different radii have different orbital periods. A special case of this, of particular importance for astronomy, is **Keplerian rotation**. Here a single central massive object provides the dominant gravitational influence on the elements of the system. \n",
    "\n",
    "$$v=\\sqrt{\\frac{GM}{r}} \\text{ (Eqn 3.8)}$$\n",
    "\n",
    "In systems containing much larger numbers of objects, without a single dominant mass at the centre (i.e. extended mass distributions), we can often still estimate the mass of the system from a rotation curve. If the mass of the system is distributed with spherical symmetry around its centre, the net gravitational force on an object at radius  is due only to the mass within that radius, which can be treated as though it were all located at the centre (an idealised point mass). The gravitational influence of mass outside that radius can be ignored. Therefore the Keplerian rotation equation can be used in the generalised form\n",
    "\n",
    "$$v(r)=\\sqrt{\\frac{GM(r)}{r}} \\text{ (Eqn 3.9)}$$\n",
    "\n"
   ]
  },
  {
   "cell_type": "markdown",
   "metadata": {},
   "source": [
    "## 3.4 Motion of components within a body\n",
    "\n",
    "### 3.4.1 Motion in a gas\n",
    "\n",
    "The motion of atoms within a gas also broadens spectral lines via **Doppler broadening**. The observer perceives a broad emission line, which is a combination of narrow, Doppler-shifted emission lines from many different atoms in the gas. These atoms are moving with a range of speeds towards and away from the observer. This range of velocities, or **velocity dispersion** $\\Delta v$ is related to the Doppler broadening $\\Delta \\lambda$ by the expression:\n",
    "\n",
    "$$\\frac{\\Delta \\lambda}{\\lambda} \\approx \\frac{\\Delta v}{c} \\text{ (Eqn 3.10)}$$\n",
    "\n",
    "**Thermal motion** is the random movement of atoms in a gas associated with the temperature ($T$) of the gas and the individual masses () of the atoms, producing a **velocity dispersion**:\n",
    "\n",
    "$$\\Delta v \\approx \\sqrt{\\frac{2kT}{m}} \\text{ (Eqn 3.11)}$$"
   ]
  },
  {
   "cell_type": "code",
   "execution_count": null,
   "metadata": {},
   "outputs": [],
   "source": []
  },
  {
   "cell_type": "markdown",
   "metadata": {},
   "source": []
  }
 ],
 "metadata": {
  "kernelspec": {
   "display_name": "Python 3",
   "language": "python",
   "name": "python3"
  },
  "language_info": {
   "codemirror_mode": {
    "name": "ipython",
    "version": 3
   },
   "file_extension": ".py",
   "mimetype": "text/x-python",
   "name": "python",
   "nbconvert_exporter": "python",
   "pygments_lexer": "ipython3",
   "version": "3.12.1"
  }
 },
 "nbformat": 4,
 "nbformat_minor": 2
}
