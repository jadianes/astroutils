{
 "cells": [
  {
   "cell_type": "markdown",
   "metadata": {},
   "source": [
    "## Topic 1.1. Astrometry: measuring positions"
   ]
  },
  {
   "cell_type": "code",
   "execution_count": null,
   "metadata": {},
   "outputs": [],
   "source": [
    "import pandas as pd\n",
    "import numpy as np\n",
    "\n",
    "import sys\n",
    "import math\n",
    "\n",
    "sys.path.append('..')\n",
    "import astroutils as astro"
   ]
  },
  {
   "cell_type": "markdown",
   "metadata": {},
   "source": [
    "### Question 1.3"
   ]
  },
  {
   "cell_type": "markdown",
   "metadata": {},
   "source": [
    "Converting degrees, arcminutes and arcseconds to radians and vice versa"
   ]
  },
  {
   "cell_type": "code",
   "execution_count": 2,
   "metadata": {},
   "outputs": [
    {
     "data": {
      "text/plain": [
       "'0.623839'"
      ]
     },
     "execution_count": 2,
     "metadata": {},
     "output_type": "execute_result"
    }
   ],
   "source": [
    "astro.to_radians(sf = 6, degs=35, arcmins=44, arcsecs=36)"
   ]
  },
  {
   "cell_type": "code",
   "execution_count": 3,
   "metadata": {},
   "outputs": [
    {
     "data": {
      "text/plain": [
       "('35', '44', '36')"
      ]
     },
     "execution_count": 3,
     "metadata": {},
     "output_type": "execute_result"
    }
   ],
   "source": [
    "astro.from_radians(sf=3,radians=0.623839)"
   ]
  },
  {
   "cell_type": "markdown",
   "metadata": {},
   "source": [
    "### Question 1.4"
   ]
  },
  {
   "cell_type": "markdown",
   "metadata": {},
   "source": [
    "Small angle approximation."
   ]
  },
  {
   "cell_type": "code",
   "execution_count": 4,
   "metadata": {},
   "outputs": [
    {
     "data": {
      "text/plain": [
       "'0.0001454'"
      ]
     },
     "execution_count": 4,
     "metadata": {},
     "output_type": "execute_result"
    }
   ],
   "source": [
    "astro.to_radians(sf=4, arcsecs=30)"
   ]
  },
  {
   "cell_type": "code",
   "execution_count": 5,
   "metadata": {},
   "outputs": [
    {
     "data": {
      "text/plain": [
       "'0.0001454'"
      ]
     },
     "execution_count": 5,
     "metadata": {},
     "output_type": "execute_result"
    }
   ],
   "source": [
    "astro.to_sf(\n",
    "    sf=4,\n",
    "    res=math.sin(float(astro.to_radians(sf=4,arcsecs=30)))\n",
    ")"
   ]
  },
  {
   "cell_type": "markdown",
   "metadata": {},
   "source": [
    "### Question 1.5\n",
    "\n",
    "Conversion of RA time coordinates to decimal degrees."
   ]
  },
  {
   "cell_type": "code",
   "execution_count": 6,
   "metadata": {},
   "outputs": [
    {
     "data": {
      "text/plain": [
       "'176.49'"
      ]
     },
     "execution_count": 6,
     "metadata": {},
     "output_type": "execute_result"
    }
   ],
   "source": [
    "astro.ra_from_time_to_deg(sf=5, h=11, m=45, s=56.78)"
   ]
  },
  {
   "cell_type": "markdown",
   "metadata": {},
   "source": [
    "### Example 1.4\n",
    "\n",
    "Calculate the angular separation between `cyg_A_61` and `cyg_B_61` with positions:\n",
    "\n",
    "`21h 06m 53.94s, +38deg 44arcmin 57.9arcsec`   \n",
    "`21h 06m 55.26s, +38deg 44arcmin 31.4arcsec` \n",
    "\n",
    "respectively. Express your answer in arcseconds.\n"
   ]
  },
  {
   "cell_type": "markdown",
   "metadata": {},
   "source": [
    "#### 1. Define locations"
   ]
  },
  {
   "cell_type": "code",
   "execution_count": 7,
   "metadata": {},
   "outputs": [],
   "source": [
    "cyg_A_61_ra = np.array([21, 6, 53.94])\n",
    "cyg_A_61_dec = np.array([38, 44, 57.9])\n",
    "cyg_B_61_ra = np.array([21, 6, 55.26])\n",
    "cyg_B_61_dec = np.array([38, 44, 31.4])"
   ]
  },
  {
   "cell_type": "markdown",
   "metadata": {},
   "source": [
    "#### 2. Compute deltas."
   ]
  },
  {
   "cell_type": "code",
   "execution_count": 8,
   "metadata": {},
   "outputs": [],
   "source": [
    "\n",
    "delta_ra = cyg_A_61_ra - cyg_B_61_ra\n",
    "delta_dec = cyg_A_61_dec - cyg_B_61_dec\n"
   ]
  },
  {
   "cell_type": "code",
   "execution_count": 9,
   "metadata": {},
   "outputs": [
    {
     "data": {
      "text/plain": [
       "array([ 0.  ,  0.  , -1.32])"
      ]
     },
     "execution_count": 9,
     "metadata": {},
     "output_type": "execute_result"
    }
   ],
   "source": [
    "delta_ra"
   ]
  },
  {
   "cell_type": "code",
   "execution_count": 10,
   "metadata": {},
   "outputs": [
    {
     "data": {
      "text/plain": [
       "array([ 0. ,  0. , 26.5])"
      ]
     },
     "execution_count": 10,
     "metadata": {},
     "output_type": "execute_result"
    }
   ],
   "source": [
    "delta_dec"
   ]
  },
  {
   "cell_type": "markdown",
   "metadata": {},
   "source": [
    "#### 3. Convert RA delta to arcseconds."
   ]
  },
  {
   "cell_type": "code",
   "execution_count": 11,
   "metadata": {},
   "outputs": [],
   "source": [
    "delta_ra_arcseconds = delta_ra * 15"
   ]
  },
  {
   "cell_type": "code",
   "execution_count": 12,
   "metadata": {},
   "outputs": [
    {
     "data": {
      "text/plain": [
       "array([  0. ,   0. , -19.8])"
      ]
     },
     "execution_count": 12,
     "metadata": {},
     "output_type": "execute_result"
    }
   ],
   "source": [
    "delta_ra_arcseconds"
   ]
  },
  {
   "cell_type": "markdown",
   "metadata": {},
   "source": [
    "#### 4. Compute RA distance"
   ]
  },
  {
   "cell_type": "code",
   "execution_count": 13,
   "metadata": {},
   "outputs": [],
   "source": [
    "mean_dec = np.mean([\n",
    "    cyg_A_61_dec,\n",
    "    cyg_B_61_dec\n",
    "], axis=0)"
   ]
  },
  {
   "cell_type": "code",
   "execution_count": 14,
   "metadata": {},
   "outputs": [],
   "source": [
    "mean_dec_radians = float(astro.to_radians(\n",
    "    sf=3, \n",
    "    degs=mean_dec[0], \n",
    "    arcmins=mean_dec[1], \n",
    "    arcsecs=mean_dec[2]\n",
    "    )\n",
    ")"
   ]
  },
  {
   "cell_type": "code",
   "execution_count": 15,
   "metadata": {},
   "outputs": [
    {
     "data": {
      "text/plain": [
       "0.676"
      ]
     },
     "execution_count": 15,
     "metadata": {},
     "output_type": "execute_result"
    }
   ],
   "source": [
    "mean_dec_radians"
   ]
  },
  {
   "cell_type": "markdown",
   "metadata": {},
   "source": [
    "Convert the delta in RA to the corresponding value given the declination."
   ]
  },
  {
   "cell_type": "code",
   "execution_count": 16,
   "metadata": {},
   "outputs": [],
   "source": [
    "distance_ra_arcsecs = \\\n",
    "    delta_ra_arcseconds * math.cos(mean_dec_radians)"
   ]
  },
  {
   "cell_type": "code",
   "execution_count": 17,
   "metadata": {},
   "outputs": [
    {
     "data": {
      "text/plain": [
       "array([  0.        ,   0.        , -15.44561694])"
      ]
     },
     "execution_count": 17,
     "metadata": {},
     "output_type": "execute_result"
    }
   ],
   "source": [
    "distance_ra_arcsecs"
   ]
  },
  {
   "cell_type": "markdown",
   "metadata": {},
   "source": [
    "#### 5. Compute theta"
   ]
  },
  {
   "cell_type": "markdown",
   "metadata": {},
   "source": [
    "Use Pythagoras theorem."
   ]
  },
  {
   "cell_type": "code",
   "execution_count": 18,
   "metadata": {},
   "outputs": [],
   "source": [
    "theta = math.sqrt(\n",
    "    distance_ra_arcsecs[2]**2 + delta_dec[2]**2\n",
    ")"
   ]
  },
  {
   "cell_type": "code",
   "execution_count": 19,
   "metadata": {},
   "outputs": [
    {
     "data": {
      "text/plain": [
       "'31'"
      ]
     },
     "execution_count": 19,
     "metadata": {},
     "output_type": "execute_result"
    }
   ],
   "source": [
    "astro.to_sf(sf=2, res=theta)"
   ]
  },
  {
   "cell_type": "markdown",
   "metadata": {},
   "source": [
    "### Example 1.5\n",
    "\n",
    "Converting angular separation to linear separation (or angular size to linear size).\n",
    "\n",
    "Given the angular separation (or size) between two objects, we just need to know the distance to the objects to obtain the linear separation (or size).\n",
    "\n",
    "This conversion relates the angular separation $\\theta$ to the linear separation $D$ via the distance away $d$ using trigonometry:\n",
    "\n",
    "$$\\sin \\theta = \\frac{D}{d}$$\n",
    "\n",
    "Taking the result of the previous example for the angular separation between _61 Cyg A_ and _61 Cyg B_, and the fact that they are 3.50 pc away from us, calculate their linear separation in AU."
   ]
  },
  {
   "cell_type": "markdown",
   "metadata": {},
   "source": [
    "First we can make use of the small angle approximation and use $\\theta$ in radians as value for $\\sin \\theta$."
   ]
  },
  {
   "cell_type": "code",
   "execution_count": 20,
   "metadata": {},
   "outputs": [],
   "source": [
    "theta_radians = astro.to_radians(\n",
    "    sf=6,\n",
    "    arcsecs=theta\n",
    ")"
   ]
  },
  {
   "cell_type": "code",
   "execution_count": 21,
   "metadata": {},
   "outputs": [
    {
     "data": {
      "text/plain": [
       "'0.000148706'"
      ]
     },
     "execution_count": 21,
     "metadata": {},
     "output_type": "execute_result"
    }
   ],
   "source": [
    "\n",
    "theta_radians"
   ]
  },
  {
   "cell_type": "markdown",
   "metadata": {},
   "source": [
    "Then we can apply the formulate above."
   ]
  },
  {
   "cell_type": "code",
   "execution_count": 22,
   "metadata": {},
   "outputs": [],
   "source": [
    "linear_distance_pc = float(theta_radians) * 3.5"
   ]
  },
  {
   "cell_type": "code",
   "execution_count": 23,
   "metadata": {},
   "outputs": [
    {
     "data": {
      "text/plain": [
       "0.000520471"
      ]
     },
     "execution_count": 23,
     "metadata": {},
     "output_type": "execute_result"
    }
   ],
   "source": [
    "linear_distance_pc"
   ]
  },
  {
   "cell_type": "code",
   "execution_count": 24,
   "metadata": {},
   "outputs": [
    {
     "data": {
      "text/plain": [
       "'107'"
      ]
     },
     "execution_count": 24,
     "metadata": {},
     "output_type": "execute_result"
    }
   ],
   "source": [
    "astro.to_sf(\n",
    "    sf=3, \n",
    "    res=astro.pc_to_au(linear_distance_pc))"
   ]
  },
  {
   "cell_type": "markdown",
   "metadata": {},
   "source": [
    "### Question 1.7\n",
    "\n",
    "Combining proper motion components.\n",
    "\n",
    "The aparent movement of a star across the sky is called *proper motion*, and we can use the same approach used when computing angular and linear distances to determine movement.\n",
    "\n",
    "Proper motion components refer to the proper motion in right ascension and declination, and can be defined as the changes in each component in time $\\Delta t$.\n",
    "\n",
    "Like in Example 1.4, we can use Pythagoras theorem to combine both components into the magnitude of the proper motions as:\n",
    "\n",
    "$$\\mu^2 = (\\mu_{\\alpha^*})^2 + (\\mu_{\\delta})^2$$\n",
    "\n",
    "where $\\mu_{\\alpha^*}$ already includes the cosine factor of the declination."
   ]
  },
  {
   "cell_type": "markdown",
   "metadata": {},
   "source": [
    "Use the previous result to calculate the magnitude of the proper motion of Vega, knowing that\n",
    "\n",
    "$$\\mu_{\\alpha^*} = +202 \\text{ mas } y^{-1}$$\n",
    "$$\\mu_{\\delta} = +287 \\text{ mas } y^{-1}$$\n",
    "\n",
    "What angular distance does the star move in 50 years?"
   ]
  },
  {
   "cell_type": "code",
   "execution_count": 25,
   "metadata": {},
   "outputs": [],
   "source": [
    "vega_proper_motion_magnitude = float(astro.magnitude_from_components(\n",
    "    sf=3,\n",
    "    ra_comp=202,\n",
    "    dec_comp=287\n",
    "))"
   ]
  },
  {
   "cell_type": "code",
   "execution_count": 26,
   "metadata": {},
   "outputs": [
    {
     "data": {
      "text/plain": [
       "17.55"
      ]
     },
     "execution_count": 26,
     "metadata": {},
     "output_type": "execute_result"
    }
   ],
   "source": [
    "1e-3 * vega_proper_motion_magnitude * 50"
   ]
  },
  {
   "cell_type": "markdown",
   "metadata": {},
   "source": [
    "### Example 1.6\n",
    "\n",
    "##### Converting proper motion to transverse velocity.\n",
    "\n",
    "The **transverse velocity**, $v_T$, of an astronomical object is to its proper motion what its linear separation or size is to its angular separation or size.\n",
    "\n",
    "This transverse velocity is across the plane of the sky. There is also a radial component in the direction towards or away from use, which is not part of this transverse velocity. Both components, transverse and radial, make the **true velocity** of the astronomical object.\n",
    "\n",
    "To calculate the transverse velocity, we need to know the magnitude of the proper motion, $\\mu$, and the objects's distance, $d$. Then we use trigonometry the same way we do with linear separation and size:\n",
    "\n",
    "$$\\sin \\mu = \\frac{v_T}{d}$$\n"
   ]
  },
  {
   "cell_type": "markdown",
   "metadata": {},
   "source": [
    "Using the value obtained above for the proper motion magitude for Vega, and knowing that the star is located 7.68 parsecs away, calculate irs transverse velocity in $km$ $s^{-1}$."
   ]
  },
  {
   "cell_type": "markdown",
   "metadata": {},
   "source": [
    "First we need to convert the proper motion pagnitude value to radians."
   ]
  },
  {
   "cell_type": "code",
   "execution_count": 27,
   "metadata": {},
   "outputs": [],
   "source": [
    "vega_proper_motion_magnitude_rads = float(astro.to_radians(\n",
    "    sf=3,\n",
    "    degs=0,\n",
    "    arcmins=0,\n",
    "    arcsecs=1e-3*float(vega_proper_motion_magnitude)\n",
    "))"
   ]
  },
  {
   "cell_type": "code",
   "execution_count": 28,
   "metadata": {},
   "outputs": [
    {
     "data": {
      "text/plain": [
       "1.7e-06"
      ]
     },
     "execution_count": 28,
     "metadata": {},
     "output_type": "execute_result"
    }
   ],
   "source": [
    "vega_proper_motion_magnitude_rads"
   ]
  },
  {
   "cell_type": "code",
   "execution_count": 29,
   "metadata": {},
   "outputs": [
    {
     "data": {
      "text/plain": [
       "'12.775'"
      ]
     },
     "execution_count": 29,
     "metadata": {},
     "output_type": "execute_result"
    }
   ],
   "source": [
    "astro.angular_to_linear(\n",
    "    sf=5,\n",
    "    theta=vega_proper_motion_magnitude_rads / astro.SEC_IN_A_YEAR,\n",
    "    distance_away=astro.KM_IN_A_PC * 7.68\n",
    ")"
   ]
  },
  {
   "cell_type": "markdown",
   "metadata": {},
   "source": [
    "### Question 1.8\n",
    "\n",
    "##### From proper motion components to transverse velocity.\n"
   ]
  },
  {
   "cell_type": "markdown",
   "metadata": {},
   "source": [
    "Calculate the transverse velocity of *Beta Virginis* which has proper motion components of $\\mu_{\\alpha^*} = +743 \\text{ mas }y^{-1}$ and $\\mu_{\\delta} = -272 \\text{ mas }y^{-1}$ and lies at a distance of 11.1 parsecs. Express your final answers to 3 significant figures."
   ]
  },
  {
   "cell_type": "markdown",
   "metadata": {},
   "source": [
    "The magnitude of the proper motion can be determined using Pythagoras theorem."
   ]
  },
  {
   "cell_type": "code",
   "execution_count": 30,
   "metadata": {},
   "outputs": [],
   "source": [
    "beta_virginis_pm_magnitude = float(astro.magnitude_from_components(\n",
    "    sf=3,\n",
    "    ra_comp=743,\n",
    "    dec_comp=-272\n",
    "))"
   ]
  },
  {
   "cell_type": "code",
   "execution_count": 31,
   "metadata": {},
   "outputs": [
    {
     "data": {
      "text/plain": [
       "791.0"
      ]
     },
     "execution_count": 31,
     "metadata": {},
     "output_type": "execute_result"
    }
   ],
   "source": [
    "beta_virginis_pm_magnitude"
   ]
  },
  {
   "cell_type": "markdown",
   "metadata": {},
   "source": [
    "We can now use this magnitude and the distance to obtain the transverse velocity using trigonometry and the small angle approximation. First we need to convert the magnitude to radians."
   ]
  },
  {
   "cell_type": "code",
   "execution_count": 35,
   "metadata": {},
   "outputs": [],
   "source": [
    "beta_virginis_pm_magnitude_rad = float(astro.to_radians(\n",
    "    sf=3,\n",
    "    arcsecs=1e-3*beta_virginis_pm_magnitude\n",
    "))"
   ]
  },
  {
   "cell_type": "code",
   "execution_count": 36,
   "metadata": {},
   "outputs": [
    {
     "data": {
      "text/plain": [
       "3.83e-06"
      ]
     },
     "execution_count": 36,
     "metadata": {},
     "output_type": "execute_result"
    }
   ],
   "source": [
    "beta_virginis_pm_magnitude_rad"
   ]
  },
  {
   "cell_type": "code",
   "execution_count": 38,
   "metadata": {},
   "outputs": [
    {
     "data": {
      "text/plain": [
       "41.6"
      ]
     },
     "execution_count": 38,
     "metadata": {},
     "output_type": "execute_result"
    }
   ],
   "source": [
    "float(astro.angular_to_linear(\n",
    "    sf=3,\n",
    "    theta=beta_virginis_pm_magnitude_rad / astro.SEC_IN_A_YEAR,\n",
    "    distance_away=11.1*astro.KM_IN_A_PC\n",
    "))"
   ]
  },
  {
   "cell_type": "markdown",
   "metadata": {},
   "source": [
    "Try now with 78 Ursae Majoris which has proper motion components of $\\mu_{\\alpha^*} = +108 \\text{ mas }y^{-1}$ and $\\mu_{\\delta} = +2 \\text{ mas }y^{-1}$ and lies at a distance of 25.0 parsecs. Express your final answers to 3 significant figures."
   ]
  },
  {
   "cell_type": "code",
   "execution_count": null,
   "metadata": {},
   "outputs": [],
   "source": []
  },
  {
   "cell_type": "code",
   "execution_count": 39,
   "metadata": {},
   "outputs": [],
   "source": [
    "ursae_majoris_78_pm_magnitude = float(astro.magnitude_from_components(\n",
    "    sf=3,\n",
    "    ra_comp=108,\n",
    "    dec_comp=2\n",
    "))"
   ]
  },
  {
   "cell_type": "code",
   "execution_count": 40,
   "metadata": {},
   "outputs": [
    {
     "data": {
      "text/plain": [
       "108.0"
      ]
     },
     "execution_count": 40,
     "metadata": {},
     "output_type": "execute_result"
    }
   ],
   "source": [
    "ursae_majoris_78_pm_magnitude"
   ]
  },
  {
   "cell_type": "code",
   "execution_count": 41,
   "metadata": {},
   "outputs": [],
   "source": [
    "ursae_majoris_78_pm_magnitude_rad = float(astro.to_radians(\n",
    "    sf=3,\n",
    "    arcsecs=1e-3*ursae_majoris_78_pm_magnitude\n",
    "))"
   ]
  },
  {
   "cell_type": "code",
   "execution_count": 42,
   "metadata": {},
   "outputs": [
    {
     "data": {
      "text/plain": [
       "5.24e-07"
      ]
     },
     "execution_count": 42,
     "metadata": {},
     "output_type": "execute_result"
    }
   ],
   "source": [
    "ursae_majoris_78_pm_magnitude_rad"
   ]
  },
  {
   "cell_type": "code",
   "execution_count": 43,
   "metadata": {},
   "outputs": [
    {
     "data": {
      "text/plain": [
       "12.8"
      ]
     },
     "execution_count": 43,
     "metadata": {},
     "output_type": "execute_result"
    }
   ],
   "source": [
    "float(astro.angular_to_linear(\n",
    "    sf=3,\n",
    "    theta=ursae_majoris_78_pm_magnitude_rad / astro.SEC_IN_A_YEAR,\n",
    "    distance_away=25.0*astro.KM_IN_A_PC\n",
    "))"
   ]
  },
  {
   "cell_type": "code",
   "execution_count": null,
   "metadata": {},
   "outputs": [],
   "source": []
  }
 ],
 "metadata": {
  "kernelspec": {
   "display_name": "Python 3",
   "language": "python",
   "name": "python3"
  },
  "language_info": {
   "codemirror_mode": {
    "name": "ipython",
    "version": 3
   },
   "file_extension": ".py",
   "mimetype": "text/x-python",
   "name": "python",
   "nbconvert_exporter": "python",
   "pygments_lexer": "ipython3",
   "version": "3.12.1"
  }
 },
 "nbformat": 4,
 "nbformat_minor": 2
}
