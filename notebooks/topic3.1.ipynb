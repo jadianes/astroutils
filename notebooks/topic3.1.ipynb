{
 "cells": [
  {
   "cell_type": "markdown",
   "metadata": {},
   "source": [
    "# Topic II.1 Images of the universe"
   ]
  },
  {
   "cell_type": "code",
   "execution_count": 1,
   "metadata": {},
   "outputs": [],
   "source": [
    "import sys\n",
    "import math\n",
    "\n",
    "sys.path.append('..')\n",
    "import astroutils as astro"
   ]
  },
  {
   "cell_type": "markdown",
   "metadata": {},
   "source": [
    "## 1.1 Images and measurements\n",
    "\n",
    "Astronomical images record distributions of brightness, and how that depends on an object's position on the sky. The end result is a 2D (x,y) array of pixels: a grid that records the brightness at related locations on the sky.\n",
    "\n",
    "Additional information, such as the astronomical coordinate system and details of when the observation was made, is typically stored within the image file as metadata.\n",
    "\n",
    "### 1.1.1 Measuring brightness\n",
    "\n",
    "There are several astronomical quantities associated with the brightness of objects: apparent and absolute magnitude, flux and luminosity. However, until we know how far away an object is, we are only measuring how bright it looks to us on the sky and we cannot infer any physical properties.\n",
    "\n",
    "In principle, it is easy to measure apparent magnitude or flux:\n",
    "\n",
    "1. Identify which pixels in the image correspond to the object of interest.\n",
    "2. Sum up the brightness measured in each pixel.\n",
    "\n",
    "We use **photometric appertures** to group pixels in an image and sum up their brightness. This is considered the total brighness of extended objects. \n",
    "\n",
    "The way light is spread out from the center of an object across multiple pixels is known as its **point-spread function** (PSF).\n",
    "\n",
    "### 1.1.2 Measuring sizes\n",
    "\n",
    "The size measured directly from an image does not on its own tell us about its true physical size. We initially measure angular size, the angle the object spans on the sky, but we need to know its distance to determine how big it is in kilometres or parsecs.\n",
    "\n",
    "The conversion factor between pixels and angular size or separation in arcseconds or arcminutes will be different for different telescopes. It is known as **pixel scale**.\n",
    "\n",
    "### 1.1.3 Measuring shapes\n",
    "\n",
    "Frequently in astronomy we cannot be certain of the true shape or dimensions of objects. Sometimes the problem can be solved using additional information, such as spectral information providing clues about rotation via Doppler line shifts or broadening. If studying very large samples, we sometimes expect that overall the orientations are random, which enables the use of statistical methods or computer simulations to determine the overall size and shape distributions of a set of objects. However, unknown orientation angles remain a major uncertainty in many astronomical studies.\n",
    "\n",
    "For a circular disc-like object, the observed major axis (i.e. twice the semimajor axis) corresponds to the true diameter of the disc, and the inclination angle (tilt, $\\theta$) relative to the plane of the sky is given by\n",
    "\n",
    "$$\\theta = \\cos^{-1}(\\frac{b}{a})$$\n",
    "\n",
    "where $a$ is the measured semimajor axis and $b$ is the measured semiminor axis.\n",
    "\n",
    "If a linear object is projected at an angle of $\\theta$ to the plane of the sky, then its true length, $L$, is related to its measured length, $l$, by\n",
    "\n",
    "$$L=\\frac{l}{\\cos \\theta}$$\n",
    "\n"
   ]
  },
  {
   "cell_type": "markdown",
   "metadata": {},
   "source": [
    "## 1.2 Structure in images\n",
    "\n",
    "Combining information about brightness, sizes, and shapes tells us about the structure of the Universe: how individual stars, stellar systems, galaxies and their components relate to each other. This is an essential step in building our understanding of how stars and galaxies are born, live their lives, and eventually die.\n",
    "\n",
    "### Structure in stars\n",
    "\n",
    "Stars complexity does not reveal itself in individual images of single stars. These are unresolved to our telescopes because their light is contained within a region smaller than the size of the details.\n",
    "\n",
    "To understand the structure of stars we can use spectroscopy, studies of binary systems, asteroseismology, or structural information of the Sun.\n"
   ]
  },
  {
   "cell_type": "markdown",
   "metadata": {},
   "source": [
    "## 1.3 Colour in astronomy images\n",
    "\n",
    "Colour of starlight encodes information about the temperature of a star: indeed, colour provides clues to a range of physical processes of interest to astronomers.\n",
    "\n",
    "### Broadband images\n",
    "\n",
    "Telescope filters provide a way to precisely measure the range of wavelengths that are recorded in an image. The standard U, B, V, R and I filters are referred to as **broadband filters**, although they typically encompass narrower wavelengthds than the whole spectra.\n",
    "\n",
    "### Narrow-band images\n",
    "\n",
    "Narrow-band filters allow recording the light spaning only a very narrow range in wavelength (e.g. radio).\n"
   ]
  }
 ],
 "metadata": {
  "kernelspec": {
   "display_name": "Python 3",
   "language": "python",
   "name": "python3"
  },
  "language_info": {
   "codemirror_mode": {
    "name": "ipython",
    "version": 3
   },
   "file_extension": ".py",
   "mimetype": "text/x-python",
   "name": "python",
   "nbconvert_exporter": "python",
   "pygments_lexer": "ipython3",
   "version": "3.12.1"
  }
 },
 "nbformat": 4,
 "nbformat_minor": 2
}
